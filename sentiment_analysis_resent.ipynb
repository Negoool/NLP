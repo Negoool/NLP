{
  "cells": [
    {
      "cell_type": "markdown",
      "metadata": {
        "id": "xoJz5S0kMBpl"
      },
      "source": [
        "# Overview:\n",
        "Training a classifier for sentiment analysis. I picked the Imdb dataset.\n"
      ]
    },
    {
      "cell_type": "code",
      "execution_count": 2,
      "metadata": {},
      "outputs": [
        {
          "name": "stdout",
          "output_type": "stream",
          "text": [
            " Result: 7\n"
          ]
        }
      ],
      "source": [
        "# This is a test to make sure that the notebook can be opened in my local machine -vs code.\n",
        "\n",
        "print (f\" Result: {5 + 2}\")"
      ]
    },
    {
      "cell_type": "code",
      "execution_count": 1,
      "metadata": {
        "id": "1PUs0HQ1IKK7"
      },
      "outputs": [
        {
          "name": "stdout",
          "output_type": "stream",
          "text": [
            "Collecting transformers\n",
            "  Downloading transformers-4.29.2-py3-none-any.whl (7.1 MB)\n",
            "     |████████████████████████████████| 7.1 MB 3.6 MB/s            \n",
            "\u001b[?25hRequirement already satisfied: regex!=2019.12.17 in /Users/negariravani/.pyenv/versions/3.8.9/envs/.mlprod_env/lib/python3.8/site-packages (from transformers) (2021.11.10)\n",
            "Requirement already satisfied: numpy>=1.17 in /Users/negariravani/.pyenv/versions/3.8.9/envs/.mlprod_env/lib/python3.8/site-packages (from transformers) (1.21.4)\n",
            "Requirement already satisfied: requests in /Users/negariravani/.pyenv/versions/3.8.9/envs/.mlprod_env/lib/python3.8/site-packages (from transformers) (2.26.0)\n",
            "Collecting tokenizers!=0.11.3,<0.14,>=0.11.1\n",
            "  Downloading tokenizers-0.13.3-cp38-cp38-macosx_10_11_x86_64.whl (4.0 MB)\n",
            "     |████████████████████████████████| 4.0 MB 34.0 MB/s            \n",
            "\u001b[?25hCollecting filelock\n",
            "  Downloading filelock-3.12.0-py3-none-any.whl (10 kB)\n",
            "Requirement already satisfied: tqdm>=4.27 in /Users/negariravani/.pyenv/versions/3.8.9/envs/.mlprod_env/lib/python3.8/site-packages (from transformers) (4.62.3)\n",
            "Collecting huggingface-hub<1.0,>=0.14.1\n",
            "  Downloading huggingface_hub-0.15.1-py3-none-any.whl (236 kB)\n",
            "     |████████████████████████████████| 236 kB 47.7 MB/s            \n",
            "\u001b[?25hCollecting pyyaml>=5.1\n",
            "  Using cached PyYAML-6.0-cp38-cp38-macosx_10_9_x86_64.whl (192 kB)\n",
            "Requirement already satisfied: packaging>=20.0 in /Users/negariravani/.pyenv/versions/3.8.9/envs/.mlprod_env/lib/python3.8/site-packages (from transformers) (21.2)\n",
            "Requirement already satisfied: typing-extensions>=3.7.4.3 in /Users/negariravani/.pyenv/versions/3.8.9/envs/.mlprod_env/lib/python3.8/site-packages (from huggingface-hub<1.0,>=0.14.1->transformers) (3.10.0.2)\n",
            "Collecting fsspec\n",
            "  Downloading fsspec-2023.5.0-py3-none-any.whl (160 kB)\n",
            "     |████████████████████████████████| 160 kB 29.4 MB/s            \n",
            "\u001b[?25hRequirement already satisfied: pyparsing<3,>=2.0.2 in /Users/negariravani/.pyenv/versions/3.8.9/envs/.mlprod_env/lib/python3.8/site-packages (from packaging>=20.0->transformers) (2.4.7)\n",
            "Requirement already satisfied: idna<4,>=2.5 in /Users/negariravani/.pyenv/versions/3.8.9/envs/.mlprod_env/lib/python3.8/site-packages (from requests->transformers) (3.3)\n",
            "Requirement already satisfied: charset-normalizer~=2.0.0 in /Users/negariravani/.pyenv/versions/3.8.9/envs/.mlprod_env/lib/python3.8/site-packages (from requests->transformers) (2.0.7)\n",
            "Requirement already satisfied: certifi>=2017.4.17 in /Users/negariravani/.pyenv/versions/3.8.9/envs/.mlprod_env/lib/python3.8/site-packages (from requests->transformers) (2021.10.8)\n",
            "Requirement already satisfied: urllib3<1.27,>=1.21.1 in /Users/negariravani/.pyenv/versions/3.8.9/envs/.mlprod_env/lib/python3.8/site-packages (from requests->transformers) (1.26.7)\n",
            "Installing collected packages: pyyaml, fsspec, filelock, tokenizers, huggingface-hub, transformers\n",
            "Successfully installed filelock-3.12.0 fsspec-2023.5.0 huggingface-hub-0.15.1 pyyaml-6.0 tokenizers-0.13.3 transformers-4.29.2\n",
            "\u001b[33mWARNING: You are using pip version 21.3.1; however, version 23.1.2 is available.\n",
            "You should consider upgrading via the '/Users/negariravani/.pyenv/versions/3.8.9/envs/.mlprod_env/bin/python3.8 -m pip install --upgrade pip' command.\u001b[0m\n",
            "Collecting torch\n",
            "  Downloading torch-2.0.1-cp38-none-macosx_10_9_x86_64.whl (143.1 MB)\n",
            "     |████████████████████████████████| 143.1 MB 163 kB/s             B/s eta 0:00:03███▋             | 83.4 MB 6.9 MB/s eta 0:00:09 ████             | 84.8 MB 6.9 MB/s eta 0:00:09 ██████████████████▏          | 94.4 MB 6.9 MB/s eta 0:00:08 :07 ██████████████▎      | 113.2 MB 43.9 MB/s eta 0:00:01 0:00:01\n",
            "\u001b[?25hRequirement already satisfied: jinja2 in /Users/negariravani/.pyenv/versions/3.8.9/envs/.mlprod_env/lib/python3.8/site-packages (from torch) (3.0.3)\n",
            "Requirement already satisfied: typing-extensions in /Users/negariravani/.pyenv/versions/3.8.9/envs/.mlprod_env/lib/python3.8/site-packages (from torch) (3.10.0.2)\n",
            "Collecting networkx\n",
            "  Downloading networkx-3.1-py3-none-any.whl (2.1 MB)\n",
            "     |████████████████████████████████| 2.1 MB 19.5 MB/s            \n",
            "\u001b[?25hCollecting sympy\n",
            "  Downloading sympy-1.12-py3-none-any.whl (5.7 MB)\n",
            "     |████████████████████████████████| 5.7 MB 41.9 MB/s            ��███████████▋   | 5.1 MB 41.9 MB/s eta 0:00:01\n",
            "\u001b[?25hRequirement already satisfied: filelock in /Users/negariravani/.pyenv/versions/3.8.9/envs/.mlprod_env/lib/python3.8/site-packages (from torch) (3.12.0)\n",
            "Requirement already satisfied: MarkupSafe>=2.0 in /Users/negariravani/.pyenv/versions/3.8.9/envs/.mlprod_env/lib/python3.8/site-packages (from jinja2->torch) (2.0.1)\n",
            "Collecting mpmath>=0.19\n",
            "  Downloading mpmath-1.3.0-py3-none-any.whl (536 kB)\n",
            "     |████████████████████████████████| 536 kB 17.4 MB/s            \n",
            "\u001b[?25hInstalling collected packages: mpmath, sympy, networkx, torch\n",
            "Successfully installed mpmath-1.3.0 networkx-3.1 sympy-1.12 torch-2.0.1\n",
            "\u001b[33mWARNING: You are using pip version 21.3.1; however, version 23.1.2 is available.\n",
            "You should consider upgrading via the '/Users/negariravani/.pyenv/versions/3.8.9/envs/.mlprod_env/bin/python3.8 -m pip install --upgrade pip' command.\u001b[0m\n",
            "Collecting flask\n",
            "  Downloading Flask-2.3.2-py3-none-any.whl (96 kB)\n",
            "     |████████████████████████████████| 96 kB 2.4 MB/s            \n",
            "\u001b[?25hCollecting importlib-metadata>=3.6.0\n",
            "  Using cached importlib_metadata-6.6.0-py3-none-any.whl (22 kB)\n",
            "Collecting Werkzeug>=2.3.3\n",
            "  Downloading Werkzeug-2.3.4-py3-none-any.whl (242 kB)\n",
            "     |████████████████████████████████| 242 kB 12.1 MB/s            \n",
            "\u001b[?25hCollecting Jinja2>=3.1.2\n",
            "  Using cached Jinja2-3.1.2-py3-none-any.whl (133 kB)\n",
            "Collecting blinker>=1.6.2\n",
            "  Downloading blinker-1.6.2-py3-none-any.whl (13 kB)\n",
            "Collecting click>=8.1.3\n",
            "  Using cached click-8.1.3-py3-none-any.whl (96 kB)\n",
            "Collecting itsdangerous>=2.1.2\n",
            "  Using cached itsdangerous-2.1.2-py3-none-any.whl (15 kB)\n",
            "Requirement already satisfied: zipp>=0.5 in /Users/negariravani/.pyenv/versions/3.8.9/envs/.mlprod_env/lib/python3.8/site-packages (from importlib-metadata>=3.6.0->flask) (3.6.0)\n",
            "Requirement already satisfied: MarkupSafe>=2.0 in /Users/negariravani/.pyenv/versions/3.8.9/envs/.mlprod_env/lib/python3.8/site-packages (from Jinja2>=3.1.2->flask) (2.0.1)\n",
            "Collecting MarkupSafe>=2.0\n",
            "  Using cached MarkupSafe-2.1.2-cp38-cp38-macosx_10_9_x86_64.whl (13 kB)\n",
            "Installing collected packages: MarkupSafe, Werkzeug, Jinja2, itsdangerous, importlib-metadata, click, blinker, flask\n",
            "  Attempting uninstall: MarkupSafe\n",
            "    Found existing installation: MarkupSafe 2.0.1\n",
            "    Uninstalling MarkupSafe-2.0.1:\n",
            "      Successfully uninstalled MarkupSafe-2.0.1\n",
            "  Attempting uninstall: Jinja2\n",
            "    Found existing installation: Jinja2 3.0.3\n",
            "    Uninstalling Jinja2-3.0.3:\n",
            "      Successfully uninstalled Jinja2-3.0.3\n",
            "  Attempting uninstall: click\n",
            "    Found existing installation: click 8.0.3\n",
            "    Uninstalling click-8.0.3:\n",
            "      Successfully uninstalled click-8.0.3\n",
            "Successfully installed Jinja2-3.1.2 MarkupSafe-2.1.2 Werkzeug-2.3.4 blinker-1.6.2 click-8.1.3 flask-2.3.2 importlib-metadata-6.6.0 itsdangerous-2.1.2\n",
            "\u001b[33mWARNING: You are using pip version 21.3.1; however, version 23.1.2 is available.\n",
            "You should consider upgrading via the '/Users/negariravani/.pyenv/versions/3.8.9/envs/.mlprod_env/bin/python3.8 -m pip install --upgrade pip' command.\u001b[0m\n",
            "Requirement already satisfied: requests in /Users/negariravani/.pyenv/versions/3.8.9/envs/.mlprod_env/lib/python3.8/site-packages (2.26.0)\n",
            "Requirement already satisfied: certifi>=2017.4.17 in /Users/negariravani/.pyenv/versions/3.8.9/envs/.mlprod_env/lib/python3.8/site-packages (from requests) (2021.10.8)\n",
            "Requirement already satisfied: charset-normalizer~=2.0.0 in /Users/negariravani/.pyenv/versions/3.8.9/envs/.mlprod_env/lib/python3.8/site-packages (from requests) (2.0.7)\n",
            "Requirement already satisfied: idna<4,>=2.5 in /Users/negariravani/.pyenv/versions/3.8.9/envs/.mlprod_env/lib/python3.8/site-packages (from requests) (3.3)\n",
            "Requirement already satisfied: urllib3<1.27,>=1.21.1 in /Users/negariravani/.pyenv/versions/3.8.9/envs/.mlprod_env/lib/python3.8/site-packages (from requests) (1.26.7)\n",
            "\u001b[33mWARNING: You are using pip version 21.3.1; however, version 23.1.2 is available.\n",
            "You should consider upgrading via the '/Users/negariravani/.pyenv/versions/3.8.9/envs/.mlprod_env/bin/python3.8 -m pip install --upgrade pip' command.\u001b[0m\n"
          ]
        }
      ],
      "source": [
        "!pip3 install transformers\n",
        "!pip3 install torch\n",
        "!pip3 install flask\n",
        "!pip3 install requests\n",
        "\n",
        "!pip3 install matplotlib\n",
        "!pip3 install pandas"
      ]
    },
    {
      "cell_type": "code",
      "execution_count": 2,
      "metadata": {
        "id": "x-6FiOUvz685"
      },
      "outputs": [],
      "source": [
        "import os\n",
        "from pathlib import Path\n",
        "from tqdm import tqdm\n",
        "import numpy as np\n",
        "import pandas as pd\n",
        "from sklearn.feature_extraction.text import TfidfVectorizer\n",
        "from sklearn.model_selection import train_test_split\n",
        "from sklearn.linear_model import LogisticRegression\n",
        "from sklearn.metrics import accuracy_score, confusion_matrix, ConfusionMatrixDisplay\n",
        "import matplotlib.pyplot as plt\n",
        "from transformers import AutoTokenizer, AutoModelForSequenceClassification, AdamW\n",
        "import torch\n",
        "from torch.utils.data import DataLoader\n",
        "\n",
        "\n",
        "from google.colab import data_table\n",
        "data_table.enable_dataframe_formatter()\n"
      ]
    },
    {
      "cell_type": "markdown",
      "metadata": {
        "id": "bB7gzJAPzmAf"
      },
      "source": [
        "# Data"
      ]
    },
    {
      "cell_type": "code",
      "execution_count": 3,
      "metadata": {
        "colab": {
          "base_uri": "https://localhost:8080/"
        },
        "id": "cJBUWcK8NNiO",
        "outputId": "6d35c27a-3c73-45b2-82a5-1edbb2ace20c"
      },
      "outputs": [
        {
          "name": "stdout",
          "output_type": "stream",
          "text": [
            "--2023-06-02 17:31:29--  https://ai.stanford.edu/~amaas/data/sentiment/aclImdb_v1.tar.gz\n",
            "Resolving ai.stanford.edu (ai.stanford.edu)... 171.64.68.10\n",
            "Connecting to ai.stanford.edu (ai.stanford.edu)|171.64.68.10|:443... connected.\n",
            "HTTP request sent, awaiting response... 200 OK\n",
            "Length: 84125825 (80M) [application/x-gzip]\n",
            "Saving to: ‘aclImdb_v1.tar.gz’\n",
            "\n",
            "aclImdb_v1.tar.gz   100%[===================>]  80.23M  16.3MB/s    in 9.2s    \n",
            "\n",
            "2023-06-02 17:31:39 (8.70 MB/s) - ‘aclImdb_v1.tar.gz’ saved [84125825/84125825]\n",
            "\n"
          ]
        }
      ],
      "source": [
        "!wget https://ai.stanford.edu/~amaas/data/sentiment/aclImdb_v1.tar.gz\n",
        "!mkdir -p data/raw\n",
        "!tar -xf aclImdb_v1.tar.gz -C data/raw"
      ]
    },
    {
      "cell_type": "code",
      "execution_count": 4,
      "metadata": {
        "id": "-KeYk5ngSF-0"
      },
      "outputs": [],
      "source": [
        "def read_imdb_split(split_dir: str) -> pd.DataFrame:\n",
        "    split_dir = Path(split_dir)\n",
        "    texts, labels = [], []\n",
        "    for label_dir in [\"pos\", \"neg\"]:\n",
        "        for text_file in (split_dir/label_dir).iterdir():\n",
        "            texts.append(text_file.read_text())\n",
        "            labels.append(0 if label_dir == \"neg\" else 1)\n",
        "    df = pd.DataFrame({\"text\": texts, \"labels\": labels})\n",
        "    return df"
      ]
    },
    {
      "cell_type": "code",
      "execution_count": 5,
      "metadata": {
        "colab": {
          "base_uri": "https://localhost:8080/"
        },
        "id": "laYLE7N5Mxs2",
        "outputId": "8a955e7c-2226-4922-a35c-e863147bad1b"
      },
      "outputs": [
        {
          "name": "stdout",
          "output_type": "stream",
          "text": [
            "Original Train dataset: 25000, Test: 25000\n"
          ]
        }
      ],
      "source": [
        "# Subsample the data\n",
        "os.makedirs(\"data/intrim\", exist_ok=True)\n",
        "\n",
        "# Load the dataset\n",
        "df_train = read_imdb_split(\"data/raw/aclImdb/train\")\n",
        "df_test = read_imdb_split(\"data/raw/aclImdb/test\")\n",
        "\n",
        "print(f\"Original Train dataset: {len(df_train)}, Test: {len(df_test)}\")\n"
      ]
    },
    {
      "cell_type": "markdown",
      "metadata": {
        "id": "xkE3soTHWUVr"
      },
      "source": [
        "For the sake of this experiment, we use a subsample of train and test to speed up the process, we use 10% of train and 2% of test. also we put aside 20% of the train set as validation set."
      ]
    },
    {
      "cell_type": "code",
      "execution_count": 6,
      "metadata": {
        "colab": {
          "base_uri": "https://localhost:8080/"
        },
        "id": "Yp5yp3dSWNwN",
        "outputId": "f11e82fe-e8a5-4f10-8106-90a19618fb3b"
      },
      "outputs": [
        {
          "name": "stdout",
          "output_type": "stream",
          "text": [
            "After subsampling train dataset: 2000, Test: 500, Val: 500\n"
          ]
        }
      ],
      "source": [
        "df_train_val = df_train.sample(frac=.1, random_state=42)\n",
        "df_train, df_val = train_test_split(df_train_val, test_size=.2)\n",
        "\n",
        "df_test = df_test.sample(frac=.02, random_state=42)\n",
        "\n",
        "df_train.to_csv(\"data/intrim/train.csv\")\n",
        "df_val.to_csv(\"data/intrim/val.csv\")\n",
        "df_test.to_csv(\"data/intrim/test.csv\")\n",
        "\n",
        "print(f\"After subsampling train dataset: {len(df_train)}, Test: {len(df_test)}, Val: {len(df_val)}\")"
      ]
    },
    {
      "cell_type": "markdown",
      "metadata": {
        "id": "D7mtZ7me9Ak2"
      },
      "source": [
        "## Analysis"
      ]
    },
    {
      "cell_type": "code",
      "execution_count": 7,
      "metadata": {
        "colab": {
          "base_uri": "https://localhost:8080/",
          "height": 464
        },
        "id": "K-kWYXnORwgm",
        "outputId": "5122988a-f2c3-488a-cd33-159779565937"
      },
      "outputs": [
        {
          "data": {
            "text/plain": [
              "Text(0.5, 1.0, 'Test')"
            ]
          },
          "execution_count": 7,
          "metadata": {},
          "output_type": "execute_result"
        },
        {
          "data": {
            "image/png": "[encoded data removed]",
            "text/plain": [
              "<Figure size 640x480 with 2 Axes>"
            ]
          },
          "metadata": {},
          "output_type": "display_data"
        }
      ],
      "source": [
        "fig, axs = plt.subplots(2)\n",
        "df_train.labels.value_counts().plot.bar(ax=axs[0])\n",
        "axs[0].set_title(\"Train\")\n",
        "df_test.labels.value_counts().plot.bar(ax=axs[1])\n",
        "axs[1].set_title(\"Test\")"
      ]
    },
    {
      "cell_type": "markdown",
      "metadata": {
        "id": "Ss5i5Wx78qWO"
      },
      "source": [
        "** The dataset is quite balanced. and therefore we will not consider any class weights for positive vs negative samples."
      ]
    },
    {
      "cell_type": "code",
      "execution_count": 8,
      "metadata": {
        "colab": {
          "base_uri": "https://localhost:8080/",
          "height": 790
        },
        "id": "jtRiQWgt6MJJ",
        "outputId": "6476467e-1a60-406e-b5c1-5204fc2338f7"
      },
      "outputs": [
        {
          "data": {
            "application/vnd.google.colaboratory.module+javascript": "\n      import \"https://ssl.gstatic.com/colaboratory/data_table/881c4a0d49046431/data_table.js\";\n\n      const table = window.createDataTable({\n        data: [[{\n            'v': 8299,\n            'f': \"8299\",\n        },\n\"There are movies, and there are films. Movies are more often than not merely cinematic \\\"candy,\\\" whereas films are true works of art. Fraulein Doktor is certainly well-placed in the latter. As most viewers, I was highly impressed with the battle scenes, but the poignancy of the portrayal of the central character is what I consider to be the most sterling quality of the film. Having done everything possible to serve her country as a true daughter of Deutschland, all the while in the throes of morphine addiction, die Fraulein is treated very shabbily by the German high command despite all of her efforts. The scene in which the Doktor is being conveyed in the rear seat of a Mercedes Benz command auto, alone, desolate, and sobbing is perhaps one of the saddest yet truest depictions of a \\\"spy's\\\" lot in life. Only the emotional pain presented by Richard Burton in the Spy Who Came in from the Cold comes close. Fraulein Doktor is a far deeper film than one may realize upon a singular viewing. I only wish that its producers would see fit to release it on DVD so that those who have never experienced it can, and those who have seen it can again (perhaps again and again)enjoy this exceptional motion picture.\",\n{\n            'v': 1,\n            'f': \"1\",\n        }],\n [{\n            'v': 3382,\n            'f': \"3382\",\n        },\n\"One of my favorite films for a number of years was \\\"Last Action Hero\\\"; unfortunately, Arnold Schwarznegger decided to spoil my fun by becoming a corrupt scumbag politician; so now I can't bear any film he may had a hand in.<br /><br />The Adventures of Jake Speed actually toys with some themes similar to those in Last...Hero; so I was pleased to find it on DVD, so I could watch these themes played out so well.<br /><br />Despite the \\\"plot-within-the-plot\\\" involving white slavery during an African nation's civil war, this is not an action movie. The plot that the \\\"plot-within-a-plot\\\" is within, is actually about a question that the film has no intention to resolve: Is Jake Speed a real person that is helping the heroine save her sister from the white-slave trader; or is he actually a fictional character (which means that the heroine has somehow entered the universe that really only exists in a series of pulp novels)? I suggest that this is not all that clearly defined in the film, and that Wayne Crawford and Andrew Lane are perfectly aware of this. The film thus becomes a presentation of what audiences may want from such a fictional \\\"adventure-story\\\" universe. That's actually a rich theme, the potential heaviness of which is lightened by the film's amiable and campy sense of humor.<br /><br />There are weaknesses to the film - primarily it's cinematography, which makes the film look like a TV show. And the pacing does sag on occasion.<br /><br />But I really like these characters, and I enjoy the adventure they live, however silly. And I just find fascinating the idea that this adventure is actually taking place in a novel.<br /><br />Holds up under multiple viewings -m good show!\",\n{\n            'v': 1,\n            'f': \"1\",\n        }],\n [{\n            'v': 20523,\n            'f': \"20523\",\n        },\n\"It feels like swedish movies are trying to become more american and I just don\\u00b4t get it. In this movie the performance of some of the actors is horrible and the script is nothing special. Don\\u00b4t waste your time!\",\n{\n            'v': 0,\n            'f': \"0\",\n        }],\n [{\n            'v': 5532,\n            'f': \"5532\",\n        },\n\"I waited until the 4th of July to write this because . . . well . . . because it just feels right to be doing it on this day.<br /><br />In 1924 D.W. Griffith needed a hit, he had not had a big one since ORPHANS OF THE STORM (1921). He'd been working steadily since then but his movies had been smaller in scope and had failed to hit the right chord with audiences. He was planning a film about Patrick Henry when he was contacted by members of the Daughters of the American Revolution (DAR) who asked if he might expand his ideas to encompass more of the American Revolution. This movie is the result. By the time he had finished he had a 14 reel history lesson and there wasn't a trace of Patrick Henry anywhere.<br /><br />We all know the story of the Revolutionary War but Griffith threw in a love story with Patriot farmer Nathan (Neil Hamilton) falling in love with Tory aristocrat Nancy Montague (Carol Dempster, a leading lady for Griffith for many years). Complicating matters is the fact that Nancy's father hates Nathan . . . well not just Nathan, he hates all rebels. It does not help matters when, during a skirmish on the streets of Lexington someone jostles Nathan's arm causing him to discharge his gun and accidentally wound Nancy's dad!<br /><br />Paralelling the love story is the (mostly true but partially embellished) story of Capt. Walter Butler (Lionel Barrymore) a renegade British officer who feels he owes allegiance to no one. With Thousands of Indians form the Six Nations on his side he hopes to crush the colonials and become monarch of his own empire.<br /><br />Comparisons with BIRTH OF A NATION (1915) are inevitable. The Montague family might just as well be the Cameron's from the earlier film while Nathan could be a part of the Stoneman family. The sequence of the Battle of Bunker Hill is staged very similarly to a scene in BIRTH OF A NATION with the attacking army, in this case the Redcoats, storming a trench packed with Patriots. The only thing missing is Henry Walthall charging across No Man's Land to stuff a flag into the muzzle of a cannon. Amazingly enough the battle scenes in America seem to lack the energy of the battle scenes in BIRTH and fail to draw the audience in. Something is clearly missing. It isn't scope, G.W. \\\"Billy\\\" Bitzer's camera work is quite good. Maybe what is missing is . . . dare I say it . . . sincerity?<br /><br />The brutality of Capt. Butler and his men is well underscored although much of it happens in long shot or offscreen. Don't expect any heads to be lopped off in closeup like we saw in INTOLERANCE (1916). In one scene Butler's second in command, Capt. Hare (Louis Wolhiem) gouges out the eyes of a captive colonist. We see only the beginning of the deed, for the remainder the camera focuses on Hare's face as he obviously has a good time doing this. Lionel had been working with Griffith on and off since 1912. A story goes that he approached Griffith for work and D.W., knowing the reputation of his famous family, said \\\"I am not hiring stage actors.\\\" to which Lionel replied \\\"And I am nothing of the kind, sir!\\\" He makes a very good and quite believable villain. Louis Wolhiem appeared with Lionel's older brother John three times; in SHERLOCK HOLMES and DR. JEKYLL AND MR. HYDE (both 1920) and later in THE TEMPEST (1927). As Capt. Hare his wild staring eyes and disheveled hair not only mark him as a villain but make you think he is quite mad also.<br /><br />Neil Hamilton later remarked that America was his first time on horseback and \\\"I was scared to death.\\\". He hides his displeasure very well though and we can believe he was quite the equestrian by the time shooting was over. Mr. Griffith was very much in love with Carol Dempster and at one point asked her to marry him. She refused and soon left his stock company, after which her star status gradually waned.<br /><br />Speaking of horses, one accidentally amusing moment which had to be unscripted came during the depiction of Paul Revere's ride. He rides his horse right up on the front porch of a family to announce \\\"To arms! The Regulars are coming!\\\" but as he tries to leave the horse cannot negotiate the steps backwards and stumbles spilling his rider on the ground! I am amazed Griffith did not do another take.<br /><br />So is America a classic? YES! Don't wait for July 4th to see it, it is enjoyable anytime.\",\n{\n            'v': 1,\n            'f': \"1\",\n        }],\n [{\n            'v': 10890,\n            'f': \"10890\",\n        },\n\"Bacall does well here - especially considering this is only her 2nd film. This one is often overshadowed because it falls between 2 great successes: \\\"To Have and To Have Not\\\" (1944) and \\\"The Big Sleep\\\" (1945), both of which paired her with Humphrey Bogart. Granted this one is not up to par to the other movies but I think through no fault of her own. I think there was some miscasting in having her portray a British upper-crust lady. No accent whatsoever. I think all the strange accents were distracting - Boyer was certainly no Spaniard. It was hard to keep straight which country people were from.<br /><br />I really liked the black and white cinematography. Mood is used to great affect - I especially liked the fog scene. The lighting also does a great job of adding to the intrigue and tension.<br /><br />Bacall is just gorgeous. Boyer just doesn't fit the romantic leading man role for me - so he and Bacall together was a little strange. Not great chemistry - and certainly no Bogie and Bacall magic. But I still really liked this picture. There is great tension and it moves along well enough. I must say I found the murder of the little girl quite bold for this period film.<br /><br />Katina Paxinou and Peter Lorre stand out as supporting cast. Paxinou as the hotel keeper is absolutely villainous and evil in her portrayal. Her one scene where she laughs maniacally as Mr. Muckerji is leaving after exposing her as the child's murderer is quite disturbing. Lorre also does quite well in his slimy, snake portrayal of Conteras - a sleazy coward to the end. Wanda Bendrix also does quite well in portraying the child Else - especially considering this was her first picture and she was only 16 at the time (though she appears much younger). Turns out she later married Auie Murphy which proved to be a short lived, tempestuous marriage.\",\n{\n            'v': 1,\n            'f': \"1\",\n        }]],\n        columns: [[\"number\", \"index\"], [\"string\", \"text\"], [\"number\", \"labels\"]],\n        columnOptions: [{\"width\": \"1px\", \"className\": \"index_column\"}],\n        rowsPerPage: 25,\n        helpUrl: \"https://colab.research.google.com/notebooks/data_table.ipynb\",\n        suppressOutputScrolling: true,\n        minimumWidth: undefined,\n      });\n      \n      function appendQuickchartButton(parentElement) {\n        let quickchartButtonContainerElement = document.createElement('div');\n        quickchartButtonContainerElement.innerHTML = `\n    <div id=\"df-7978a088-53d2-429a-9d4b-8f4d3ce08818\">\n      <button class=\"colab-df-quickchart\" onclick=\"quickchart('df-7978a088-53d2-429a-9d4b-8f4d3ce08818')\"\n              title=\"Generate charts.\"\n              style=\"display:none;\">\n\n<svg xmlns=\"http://www.w3.org/2000/svg\" height=\"24px\"viewBox=\"0 0 24 24\"\n     width=\"24px\">\n    <g>\n        <path d=\"M19 3H5c-1.1 0-2 .9-2 2v14c0 1.1.9 2 2 2h14c1.1 0 2-.9 2-2V5c0-1.1-.9-2-2-2zM9 17H7v-7h2v7zm4 0h-2V7h2v10zm4 0h-2v-4h2v4z\"/>\n    </g>\n</svg>\n      </button>\n    </div>\n\n<style>\n  .colab-df-quickchart {\n    background-color: #E8F0FE;\n    border: none;\n    border-radius: 50%;\n    cursor: pointer;\n    display: none;\n    fill: #1967D2;\n    height: 32px;\n    padding: 0 0 0 0;\n    width: 32px;\n  }\n\n  .colab-df-quickchart:hover {\n    background-color: #E2EBFA;\n    box-shadow: 0px 1px 2px rgba(60, 64, 67, 0.3), 0px 1px 3px 1px rgba(60, 64, 67, 0.15);\n    fill: #174EA6;\n  }\n\n  [theme=dark] .colab-df-quickchart {\n    background-color: #3B4455;\n    fill: #D2E3FC;\n  }\n\n  [theme=dark] .colab-df-quickchart:hover {\n    background-color: #434B5C;\n    box-shadow: 0px 1px 3px 1px rgba(0, 0, 0, 0.15);\n    filter: drop-shadow(0px 1px 2px rgba(0, 0, 0, 0.3));\n    fill: #FFFFFF;\n  }\n</style>\n\n    <script>\n      async function quickchart(key) {\n        const containerElement = document.querySelector('#' + key);\n        const charts = await google.colab.kernel.invokeFunction(\n            'generateCharts', [key], {});\n      }\n    </script>\n`;\n        parentElement.appendChild(quickchartButtonContainerElement);\n        \nfunction displayQuickchartButton(domScope) {\n  let quickchartButtonEl =\n    domScope.querySelector('#df-7978a088-53d2-429a-9d4b-8f4d3ce08818 button.colab-df-quickchart');\n  quickchartButtonEl.style.display =\n    google.colab.kernel.accessAllowed ? 'block' : 'none';\n}\n\n        displayQuickchartButton(parentElement);\n      }\n\n      appendQuickchartButton(table);\n    ",
            "text/html": [
              "\n",
              "  <div id=\"df-e9360ff7-93a8-4e83-8602-6529324d9b6d\">\n",
              "    <div class=\"colab-df-container\">\n",
              "      <div>\n",
              "<style scoped>\n",
              "    .dataframe tbody tr th:only-of-type {\n",
              "        vertical-align: middle;\n",
              "    }\n",
              "\n",
              "    .dataframe tbody tr th {\n",
              "        vertical-align: top;\n",
              "    }\n",
              "\n",
              "    .dataframe thead th {\n",
              "        text-align: right;\n",
              "    }\n",
              "</style>\n",
              "<table border=\"1\" class=\"dataframe\">\n",
              "  <thead>\n",
              "    <tr style=\"text-align: right;\">\n",
              "      <th></th>\n",
              "      <th>text</th>\n",
              "      <th>labels</th>\n",
              "    </tr>\n",
              "  </thead>\n",
              "  <tbody>\n",
              "    <tr>\n",
              "      <th>8299</th>\n",
              "      <td>There are movies, and there are films. Movies ...</td>\n",
              "      <td>1</td>\n",
              "    </tr>\n",
              "    <tr>\n",
              "      <th>3382</th>\n",
              "      <td>One of my favorite films for a number of years...</td>\n",
              "      <td>1</td>\n",
              "    </tr>\n",
              "    <tr>\n",
              "      <th>20523</th>\n",
              "      <td>It feels like swedish movies are trying to bec...</td>\n",
              "      <td>0</td>\n",
              "    </tr>\n",
              "    <tr>\n",
              "      <th>5532</th>\n",
              "      <td>I waited until the 4th of July to write this b...</td>\n",
              "      <td>1</td>\n",
              "    </tr>\n",
              "    <tr>\n",
              "      <th>10890</th>\n",
              "      <td>Bacall does well here - especially considering...</td>\n",
              "      <td>1</td>\n",
              "    </tr>\n",
              "  </tbody>\n",
              "</table>\n",
              "</div>\n",
              "      <button class=\"colab-df-convert\" onclick=\"convertToInteractive('df-e9360ff7-93a8-4e83-8602-6529324d9b6d')\"\n",
              "              title=\"Convert this dataframe to an interactive table.\"\n",
              "              style=\"display:none;\">\n",
              "        \n",
              "  <svg xmlns=\"http://www.w3.org/2000/svg\" height=\"24px\"viewBox=\"0 0 24 24\"\n",
              "       width=\"24px\">\n",
              "    <path d=\"M0 0h24v24H0V0z\" fill=\"none\"/>\n",
              "    <path d=\"M18.56 5.44l.94 2.06.94-2.06 2.06-.94-2.06-.94-.94-2.06-.94 2.06-2.06.94zm-11 1L8.5 8.5l.94-2.06 2.06-.94-2.06-.94L8.5 2.5l-.94 2.06-2.06.94zm10 10l.94 2.06.94-2.06 2.06-.94-2.06-.94-.94-2.06-.94 2.06-2.06.94z\"/><path d=\"M17.41 7.96l-1.37-1.37c-.4-.4-.92-.59-1.43-.59-.52 0-1.04.2-1.43.59L10.3 9.45l-7.72 7.72c-.78.78-.78 2.05 0 2.83L4 21.41c.39.39.9.59 1.41.59.51 0 1.02-.2 1.41-.59l7.78-7.78 2.81-2.81c.8-.78.8-2.07 0-2.86zM5.41 20L4 18.59l7.72-7.72 1.47 1.35L5.41 20z\"/>\n",
              "  </svg>\n",
              "      </button>\n",
              "      \n",
              "  <style>\n",
              "    .colab-df-container {\n",
              "      display:flex;\n",
              "      flex-wrap:wrap;\n",
              "      gap: 12px;\n",
              "    }\n",
              "\n",
              "    .colab-df-convert {\n",
              "      background-color: #E8F0FE;\n",
              "      border: none;\n",
              "      border-radius: 50%;\n",
              "      cursor: pointer;\n",
              "      display: none;\n",
              "      fill: #1967D2;\n",
              "      height: 32px;\n",
              "      padding: 0 0 0 0;\n",
              "      width: 32px;\n",
              "    }\n",
              "\n",
              "    .colab-df-convert:hover {\n",
              "      background-color: #E2EBFA;\n",
              "      box-shadow: 0px 1px 2px rgba(60, 64, 67, 0.3), 0px 1px 3px 1px rgba(60, 64, 67, 0.15);\n",
              "      fill: #174EA6;\n",
              "    }\n",
              "\n",
              "    [theme=dark] .colab-df-convert {\n",
              "      background-color: #3B4455;\n",
              "      fill: #D2E3FC;\n",
              "    }\n",
              "\n",
              "    [theme=dark] .colab-df-convert:hover {\n",
              "      background-color: #434B5C;\n",
              "      box-shadow: 0px 1px 3px 1px rgba(0, 0, 0, 0.15);\n",
              "      filter: drop-shadow(0px 1px 2px rgba(0, 0, 0, 0.3));\n",
              "      fill: #FFFFFF;\n",
              "    }\n",
              "  </style>\n",
              "\n",
              "      <script>\n",
              "        const buttonEl =\n",
              "          document.querySelector('#df-e9360ff7-93a8-4e83-8602-6529324d9b6d button.colab-df-convert');\n",
              "        buttonEl.style.display =\n",
              "          google.colab.kernel.accessAllowed ? 'block' : 'none';\n",
              "\n",
              "        async function convertToInteractive(key) {\n",
              "          const element = document.querySelector('#df-e9360ff7-93a8-4e83-8602-6529324d9b6d');\n",
              "          const dataTable =\n",
              "            await google.colab.kernel.invokeFunction('convertToInteractive',\n",
              "                                                     [key], {});\n",
              "          if (!dataTable) return;\n",
              "\n",
              "          const docLinkHtml = 'Like what you see? Visit the ' +\n",
              "            '<a target=\"_blank\" href=https://colab.research.google.com/notebooks/data_table.ipynb>data table notebook</a>'\n",
              "            + ' to learn more about interactive tables.';\n",
              "          element.innerHTML = '';\n",
              "          dataTable['output_type'] = 'display_data';\n",
              "          await google.colab.output.renderOutput(dataTable, element);\n",
              "          const docLink = document.createElement('div');\n",
              "          docLink.innerHTML = docLinkHtml;\n",
              "          element.appendChild(docLink);\n",
              "        }\n",
              "      </script>\n",
              "    </div>\n",
              "  </div>\n",
              "  "
            ],
            "text/plain": [
              "                                                    text  labels\n",
              "8299   There are movies, and there are films. Movies ...       1\n",
              "3382   One of my favorite films for a number of years...       1\n",
              "20523  It feels like swedish movies are trying to bec...       0\n",
              "5532   I waited until the 4th of July to write this b...       1\n",
              "10890  Bacall does well here - especially considering...       1"
            ]
          },
          "execution_count": 8,
          "metadata": {},
          "output_type": "execute_result"
        }
      ],
      "source": [
        "df_train.head()"
      ]
    },
    {
      "cell_type": "markdown",
      "metadata": {
        "id": "u8xQoDZQ-AuS"
      },
      "source": [
        "The text is pretty clean, there are some occational new lines. a transformer model will work in presence of these characters pretty easily, but we just delete that."
      ]
    },
    {
      "cell_type": "code",
      "execution_count": 9,
      "metadata": {
        "id": "RZ0VUl_w9__K"
      },
      "outputs": [],
      "source": [
        "def clean_text(text):\n",
        "  return text.replace(\"<br />\", \"\")\n",
        "df_train[\"text_processed\"] = df_train.text.apply(lambda txt: clean_text(txt))\n",
        "df_val[\"text_processed\"] = df_val.text.apply(lambda txt: clean_text(txt))"
      ]
    },
    {
      "cell_type": "markdown",
      "metadata": {
        "id": "qBp-437xCfAS"
      },
      "source": [
        "## Model development"
      ]
    },
    {
      "cell_type": "markdown",
      "metadata": {
        "id": "89zA2I1VChzu"
      },
      "source": [
        "### Baseline\n",
        "We will start with a baseline model to get an idea."
      ]
    },
    {
      "cell_type": "code",
      "execution_count": 10,
      "metadata": {
        "colab": {
          "base_uri": "https://localhost:8080/"
        },
        "id": "Ry7hbrIFGsEF",
        "outputId": "4d0a36f0-71a3-46f2-f7e3-64eb55f82e9e"
      },
      "outputs": [
        {
          "name": "stdout",
          "output_type": "stream",
          "text": [
            "Number of words in the vocab: 26130\n"
          ]
        }
      ],
      "source": [
        "# Create the TF-IDF vectorizer\n",
        "vectorizer = TfidfVectorizer()\n",
        "\n",
        "# Fit the vectorizer on the training data and transform the data\n",
        "X_train_vectorized = vectorizer.fit_transform(df_train[\"text_processed\"])\n",
        "X_val_vectorized = vectorizer.transform(df_val[\"text_processed\"])\n",
        "\n",
        "print(f\"Number of words in the vocab: {len(vectorizer.vocabulary_)}\")\n",
        "\n",
        "# Create a logistic regression classifier\n",
        "classifier = LogisticRegression()\n",
        "\n",
        "# Train the classifier on the vectorized training data\n",
        "_ = classifier.fit(X_train_vectorized, df_train[\"labels\"])\n"
      ]
    },
    {
      "cell_type": "code",
      "execution_count": 11,
      "metadata": {
        "colab": {
          "base_uri": "https://localhost:8080/",
          "height": 501
        },
        "id": "xWhl_UffEKED",
        "outputId": "72316d65-75d8-4605-d730-d78a4290c45a"
      },
      "outputs": [
        {
          "name": "stdout",
          "output_type": "stream",
          "text": [
            "Val Accuracy: 0.83\n",
            "Train Accuracy: 0.94\n"
          ]
        },
        {
          "data": {
            "text/plain": [
              "<sklearn.metrics._plot.confusion_matrix.ConfusionMatrixDisplay at 0x7fc4f16bb940>"
            ]
          },
          "execution_count": 11,
          "metadata": {},
          "output_type": "execute_result"
        },
        {
          "data": {
            "image/png": "[encoded data removed]",
            "text/plain": [
              "<Figure size 640x480 with 2 Axes>"
            ]
          },
          "metadata": {},
          "output_type": "display_data"
        }
      ],
      "source": [
        "df_train[\"predictions_baseline\"] = classifier.predict(X_train_vectorized)\n",
        "df_val[\"predictions_baseline\"] = classifier.predict(X_val_vectorized)\n",
        "\n",
        "# Calculate the accuracy of the model\n",
        "accuracy = accuracy_score(df_val[\"labels\"], df_val[\"predictions_baseline\"])\n",
        "print(f\"Val Accuracy: {accuracy:.2f}\")\n",
        "\n",
        "# Calculate the accuracy of the model\n",
        "accuracy = accuracy_score(df_train[\"labels\"], df_train[\"predictions_baseline\"])\n",
        "print(f\"Train Accuracy: {accuracy:.2f}\")\n",
        "\n",
        "cm = confusion_matrix(df_val[\"labels\"], df_val[\"predictions_baseline\"])\n",
        "disp = ConfusionMatrixDisplay(confusion_matrix=cm)\n",
        "disp.plot()"
      ]
    },
    {
      "cell_type": "markdown",
      "metadata": {
        "id": "GLanbquXFhDh"
      },
      "source": [
        "The model is slightly overfitted and we can add more regularization to it. but we are going to move forward for now. note that since the data is balanced, accuracy can be used as a metric."
      ]
    },
    {
      "cell_type": "markdown",
      "metadata": {
        "id": "bTBY1HJ2Htte"
      },
      "source": [
        "### Transformer based"
      ]
    },
    {
      "cell_type": "markdown",
      "metadata": {
        "id": "Vl9LW7FukIOc"
      },
      "source": [
        "will use the distilbert which is the lightweighted version of bert using Knowledge distillation."
      ]
    },
    {
      "cell_type": "code",
      "execution_count": 12,
      "metadata": {
        "colab": {
          "base_uri": "https://localhost:8080/",
          "height": 575,
          "referenced_widgets": [
            "adfe36f7a3a14d35b5bf3d77398334a3",
            "4cc27fa1a8e74e4787dbb0377a583b65",
            "cd3fdbaf323943b7bef3285cbf72a238",
            "a3787f14996c418d949c238dba7d339f",
            "6b1f43f88c7246a1842b87a3537f1a9f",
            "417ee0106be74a60a89cb3e5c2ebce04",
            "5e371c924c83499299a9baaa7b49b732",
            "326bebe5ebbe4aac9412ac9cc11b8b6b",
            "bf4c9b7fe7ec4b42ba174f7eb358f32b",
            "85f9422473354e5095590f569c6807f4",
            "1e7f9f10b3fe45b4bfd8902583d73002",
            "2b21cfbb59454f19b5c76a7028bc8180",
            "272097fa75014ebe90d0975849e2a658",
            "068f223cad63483ea18201fe5b3da293",
            "5d0e6bbb48f040e096e18f1a43827ae8",
            "0343a5dd5fcb4d458b407ff418e42708",
            "d2019ded415e4e7a9a8024f14157bd93",
            "210bfcc51dd84c259b943161b4ed63e6",
            "7ba28bf24f024365bbbb65ccf9d3e85a",
            "471781ca7fe34ec8ba2979832886da64",
            "81e9f1f204f04bf5bf7e46bdedab2fee",
            "12cb2d14c38646f4af199bc7ab0dc441",
            "b98577d8b9f54415b233621f0961c11c",
            "b917c159455944a89e706cdf020d4e86",
            "0209a615aa894d379e761c42db3f4364",
            "f2a7df841daf4ff6a14a093c6bf8a761",
            "9e6683d66cb343b4a7938ecf6e586a27",
            "2a295a2840604b54a2b5c7565ec78884",
            "f5a28bced99d44f286ababdac5ff4481",
            "b272d749e73e4e63a8e0bafd769ec8d2",
            "278a5ebd904746d3b77b6aa431db0c62",
            "ee268b53c2be41329ca8aa14dbb46a4f",
            "7f0eb4c99fd64588be4c310477bb8c10",
            "3d625900266944068f1129744491515e",
            "e2f9ec65456c44d582dd6b6a33559663",
            "1b4e7bd7b9ef44dcaac4651c606a0b21",
            "7a3f9906b45f4920b4f8b344e181eab4",
            "2da630d7dd924d91afb748029e86ba47",
            "5e0bb7c346da4a0eb9d9a7c8b0ce9486",
            "9e9abdae3b79454ead6d4c87d0602ae1",
            "890c9c4c5bd0442eb8e70d9686dba8f2",
            "851cf92b31e7427596be31e4cabb451e",
            "e49c6aef654b42e69bc3c23ac439556c",
            "7c97e5a8797a4546aa788dfef30dc3d6"
          ]
        },
        "id": "XtGytPm0ceZi",
        "outputId": "d69df383-1c61-44b4-fc28-d65755f99fa2"
      },
      "outputs": [
        {
          "data": {
            "application/vnd.jupyter.widget-view+json": {
              "model_id": "adfe36f7a3a14d35b5bf3d77398334a3",
              "version_major": 2,
              "version_minor": 0
            },
            "text/plain": [
              "Downloading (…)okenizer_config.json:   0%|          | 0.00/28.0 [00:00<?, ?B/s]"
            ]
          },
          "metadata": {},
          "output_type": "display_data"
        },
        {
          "data": {
            "application/vnd.jupyter.widget-view+json": {
              "model_id": "2b21cfbb59454f19b5c76a7028bc8180",
              "version_major": 2,
              "version_minor": 0
            },
            "text/plain": [
              "Downloading (…)lve/main/config.json:   0%|          | 0.00/483 [00:00<?, ?B/s]"
            ]
          },
          "metadata": {},
          "output_type": "display_data"
        },
        {
          "data": {
            "application/vnd.jupyter.widget-view+json": {
              "model_id": "b98577d8b9f54415b233621f0961c11c",
              "version_major": 2,
              "version_minor": 0
            },
            "text/plain": [
              "Downloading (…)solve/main/vocab.txt:   0%|          | 0.00/232k [00:00<?, ?B/s]"
            ]
          },
          "metadata": {},
          "output_type": "display_data"
        },
        {
          "data": {
            "application/vnd.jupyter.widget-view+json": {
              "model_id": "3d625900266944068f1129744491515e",
              "version_major": 2,
              "version_minor": 0
            },
            "text/plain": [
              "Downloading (…)/main/tokenizer.json:   0%|          | 0.00/466k [00:00<?, ?B/s]"
            ]
          },
          "metadata": {},
          "output_type": "display_data"
        },
        {
          "name": "stderr",
          "output_type": "stream",
          "text": [
            "Token indices sequence length is longer than the specified maximum sequence length for this model (973 > 512). Running this sequence through the model will result in indexing errors\n"
          ]
        },
        {
          "data": {
            "image/png": "[encoded data removed]",
            "text/plain": [
              "<Figure size 640x480 with 1 Axes>"
            ]
          },
          "metadata": {},
          "output_type": "display_data"
        }
      ],
      "source": [
        "model_ckp = 'distilbert-base-uncased'\n",
        "tokenizer = AutoTokenizer.from_pretrained(model_ckp)\n",
        "train_encodings = tokenizer(df_train[\"text_processed\"].tolist(), truncation=False, padding=False)\n",
        "_ = plt.hist([len(encoding) for encoding in train_encodings[\"input_ids\"]], bins=100)"
      ]
    },
    {
      "cell_type": "markdown",
      "metadata": {
        "id": "2m60QPE4k8XO"
      },
      "source": [
        "#### Data Tokenization"
      ]
    },
    {
      "cell_type": "markdown",
      "metadata": {
        "id": "Muz9teP6YqAM"
      },
      "source": [
        "\n",
        "- some points: </br>\n",
        "1 - A simplification: we are trunctuaing text. so if it is larger than 512 tokens(the maximum accepted length by distilbert) we are cutting if off. here this is not a problem. since the sentiment of a review will __probably__ be the same during the whole text and the first 512 tokens will be enough to capture that. ofcourse this can be a wrong assumption, for example if at first the reviewer is talking about positive things and at the end (the cut off portion) about negative things and the whole sentiment is negative.</br>\n",
        "2- Here we are not padding the whole data altogether. We are planning to use dynamic padding. The reason is that this is an important issue if we are concerned about training speed (and compute and cost) and also when the inference is happening at batch mode. the transformer speed is dependant on (sequence length) ** 2. If we pad here all the exmaples are going to be 512. while in dynamic padding, we pad the examples to the longest sequence length in the batch. We will define a padding data collator."
      ]
    },
    {
      "cell_type": "code",
      "execution_count": 13,
      "metadata": {
        "id": "gEHKCs1ZIFjb"
      },
      "outputs": [],
      "source": [
        "model_ckp = 'distilbert-base-uncased'\n",
        "tokenizer = AutoTokenizer.from_pretrained(model_ckp)\n",
        "train_encodings = tokenizer(df_train[\"text_processed\"].tolist(), truncation=True)\n",
        "val_encodings = tokenizer(df_val[\"text_processed\"].tolist(), truncation=True)"
      ]
    },
    {
      "cell_type": "markdown",
      "metadata": {
        "id": "Bxjl2lA8lVCa"
      },
      "source": [
        "#### Dataset creation"
      ]
    },
    {
      "cell_type": "code",
      "execution_count": 14,
      "metadata": {
        "id": "6FOdJlVPcXXz"
      },
      "outputs": [],
      "source": [
        "class IMDbDataset(torch.utils.data.Dataset):\n",
        "    def __init__(self, encodings, labels):\n",
        "        self.encodings = encodings\n",
        "        self.labels = labels\n",
        "\n",
        "    def __getitem__(self, idx):\n",
        "        item = {key: val[idx] for key, val in self.encodings.items()}\n",
        "        item['labels'] = self.labels[idx]\n",
        "        return item\n",
        "\n",
        "    def __len__(self):\n",
        "        return len(self.labels)"
      ]
    },
    {
      "cell_type": "code",
      "execution_count": 15,
      "metadata": {
        "id": "MzrJOvdMqUTl"
      },
      "outputs": [],
      "source": [
        "train_dataset = IMDbDataset(train_encodings, df_train[\"labels\"].tolist())\n",
        "val_dataset = IMDbDataset(val_encodings, df_val[\"labels\"].tolist())\n"
      ]
    },
    {
      "cell_type": "markdown",
      "metadata": {
        "id": "fSBBmoaamfod"
      },
      "source": [
        "#### Data Collator"
      ]
    },
    {
      "cell_type": "code",
      "execution_count": 16,
      "metadata": {
        "id": "1WUUJTBmmhiP"
      },
      "outputs": [],
      "source": [
        "class DataCollatorWithPadding:\n",
        "    \"\"\"\n",
        "    Data collator that will dynamically pad the inputs received.\n",
        "    Args:\n",
        "      tokenizer: Any of the HF tokenizer \n",
        "    \"\"\"\n",
        "    def __init__(self, tokenizer):\n",
        "      self.tokenizer = tokenizer\n",
        "    def __call__(self, features: list[dict[str, int|list]]) -> dict[str, int|list]:\n",
        "        batch = self.tokenizer.pad(features, padding=\"longest\", return_tensors=\"pt\")\n",
        "        return batch"
      ]
    },
    {
      "cell_type": "code",
      "execution_count": 17,
      "metadata": {
        "id": "gKZuXvtZrh3W"
      },
      "outputs": [],
      "source": [
        "data_collator = DataCollatorWithPadding(tokenizer)"
      ]
    },
    {
      "cell_type": "markdown",
      "metadata": {
        "id": "SurXPgOdqHF4"
      },
      "source": [
        "#### Data Loader"
      ]
    },
    {
      "cell_type": "code",
      "execution_count": 18,
      "metadata": {
        "id": "ZF84nR7Bp9Dm"
      },
      "outputs": [],
      "source": [
        "# since we are not keeping gradients we can go to higher batch for validation\n",
        "train_bs, val_bs = 16, 8\n",
        "train_loader = DataLoader(train_dataset, batch_size=train_bs, collate_fn=data_collator, shuffle=True)\n",
        "val_loader = DataLoader(val_dataset, batch_size=val_bs, collate_fn=data_collator, shuffle=False)"
      ]
    },
    {
      "cell_type": "code",
      "execution_count": 19,
      "metadata": {
        "colab": {
          "base_uri": "https://localhost:8080/"
        },
        "id": "UCWo98dCrBxe",
        "outputId": "bb7f386b-2d25-43fa-eabf-2b33fc11e638"
      },
      "outputs": [
        {
          "name": "stderr",
          "output_type": "stream",
          "text": [
            "You're using a DistilBertTokenizerFast tokenizer. Please note that with a fast tokenizer, using the `__call__` method is faster than using a method to encode the text followed by a call to the `pad` method to get a padded encoding.\n"
          ]
        },
        {
          "name": "stdout",
          "output_type": "stream",
          "text": [
            "torch.Size([16, 512])\n"
          ]
        }
      ],
      "source": [
        "sample = next(iter(train_loader))\n",
        "print (sample[\"input_ids\"].shape)"
      ]
    },
    {
      "cell_type": "markdown",
      "metadata": {
        "id": "PzqUr1Y4wCAy"
      },
      "source": [
        "#### Load model"
      ]
    },
    {
      "cell_type": "code",
      "execution_count": 20,
      "metadata": {
        "colab": {
          "base_uri": "https://localhost:8080/",
          "height": 763,
          "referenced_widgets": [
            "8a7abe166d0e46dc82d07f5c16b94332",
            "353b4efeb9e144f79eb06fb22602c303",
            "a1efffabcb00423cb4aa5eb481176711",
            "ecebfcd64c6e47c19e250268b9ce3d6e",
            "f02871a289784afbbc4a422010b9581f",
            "bb5ee39175144d4ca48eb2a942aabc35",
            "b0a1839bdecb41a48ea80d6de988459f",
            "abaf2f53b5794fc18a90f9bccdbe1d89",
            "b78c5e48533d403b8a968e70b2daa85d",
            "b925759ead0a4cd8a905cb05fc77ed31",
            "fdbd5e6eac56436fa807aa24455022b5"
          ]
        },
        "id": "qbIgjmm_vErS",
        "outputId": "f8e771ed-8414-4568-c670-a6e86b93fd4d"
      },
      "outputs": [
        {
          "name": "stdout",
          "output_type": "stream",
          "text": [
            "cuda\n"
          ]
        },
        {
          "data": {
            "application/vnd.jupyter.widget-view+json": {
              "model_id": "8a7abe166d0e46dc82d07f5c16b94332",
              "version_major": 2,
              "version_minor": 0
            },
            "text/plain": [
              "Downloading pytorch_model.bin:   0%|          | 0.00/268M [00:00<?, ?B/s]"
            ]
          },
          "metadata": {},
          "output_type": "display_data"
        },
        {
          "name": "stderr",
          "output_type": "stream",
          "text": [
            "Some weights of the model checkpoint at distilbert-base-uncased were not used when initializing DistilBertForSequenceClassification: ['vocab_transform.bias', 'vocab_projector.weight', 'vocab_transform.weight', 'vocab_layer_norm.weight', 'vocab_projector.bias', 'vocab_layer_norm.bias']\n",
            "- This IS expected if you are initializing DistilBertForSequenceClassification from the checkpoint of a model trained on another task or with another architecture (e.g. initializing a BertForSequenceClassification model from a BertForPreTraining model).\n",
            "- This IS NOT expected if you are initializing DistilBertForSequenceClassification from the checkpoint of a model that you expect to be exactly identical (initializing a BertForSequenceClassification model from a BertForSequenceClassification model).\n",
            "Some weights of DistilBertForSequenceClassification were not initialized from the model checkpoint at distilbert-base-uncased and are newly initialized: ['classifier.bias', 'pre_classifier.weight', 'pre_classifier.bias', 'classifier.weight']\n",
            "You should probably TRAIN this model on a down-stream task to be able to use it for predictions and inference.\n"
          ]
        },
        {
          "data": {
            "text/plain": [
              "DistilBertForSequenceClassification(\n",
              "  (distilbert): DistilBertModel(\n",
              "    (embeddings): Embeddings(\n",
              "      (word_embeddings): Embedding(30522, 768, padding_idx=0)\n",
              "      (position_embeddings): Embedding(512, 768)\n",
              "      (LayerNorm): LayerNorm((768,), eps=1e-12, elementwise_affine=True)\n",
              "      (dropout): Dropout(p=0.1, inplace=False)\n",
              "    )\n",
              "    (transformer): Transformer(\n",
              "      (layer): ModuleList(\n",
              "        (0-5): 6 x TransformerBlock(\n",
              "          (attention): MultiHeadSelfAttention(\n",
              "            (dropout): Dropout(p=0.1, inplace=False)\n",
              "            (q_lin): Linear(in_features=768, out_features=768, bias=True)\n",
              "            (k_lin): Linear(in_features=768, out_features=768, bias=True)\n",
              "            (v_lin): Linear(in_features=768, out_features=768, bias=True)\n",
              "            (out_lin): Linear(in_features=768, out_features=768, bias=True)\n",
              "          )\n",
              "          (sa_layer_norm): LayerNorm((768,), eps=1e-12, elementwise_affine=True)\n",
              "          (ffn): FFN(\n",
              "            (dropout): Dropout(p=0.1, inplace=False)\n",
              "            (lin1): Linear(in_features=768, out_features=3072, bias=True)\n",
              "            (lin2): Linear(in_features=3072, out_features=768, bias=True)\n",
              "            (activation): GELUActivation()\n",
              "          )\n",
              "          (output_layer_norm): LayerNorm((768,), eps=1e-12, elementwise_affine=True)\n",
              "        )\n",
              "      )\n",
              "    )\n",
              "  )\n",
              "  (pre_classifier): Linear(in_features=768, out_features=768, bias=True)\n",
              "  (classifier): Linear(in_features=768, out_features=2, bias=True)\n",
              "  (dropout): Dropout(p=0.2, inplace=False)\n",
              ")"
            ]
          },
          "execution_count": 20,
          "metadata": {},
          "output_type": "execute_result"
        }
      ],
      "source": [
        "device = torch.device('cuda') if torch.cuda.is_available() else torch.device('cpu')\n",
        "print(device)\n",
        "\n",
        "model = AutoModelForSequenceClassification.from_pretrained('distilbert-base-uncased')\n",
        "model.to(device)\n",
        "model.train()"
      ]
    },
    {
      "cell_type": "markdown",
      "metadata": {
        "id": "P5vW1NFy51zr"
      },
      "source": [
        "#### Training\n",
        "The training process will take around 4 minutes."
      ]
    },
    {
      "cell_type": "code",
      "execution_count": 21,
      "metadata": {
        "colab": {
          "base_uri": "https://localhost:8080/"
        },
        "id": "VihTeWuhwJam",
        "outputId": "5afe1d35-e422-4dd0-84d0-ece042e51818"
      },
      "outputs": [
        {
          "name": "stderr",
          "output_type": "stream",
          "text": [
            "/usr/local/lib/python3.10/dist-packages/transformers/optimization.py:407: FutureWarning: This implementation of AdamW is deprecated and will be removed in a future version. Use the PyTorch implementation torch.optim.AdamW instead, or set `no_deprecation_warning=True` to disable this warning\n",
            "  warnings.warn(\n",
            "100%|██████████| 125/125 [01:29<00:00,  1.40it/s]\n"
          ]
        },
        {
          "name": "stdout",
          "output_type": "stream",
          "text": [
            "\n",
            "Epoch 0 Loss 50.64929635077715\n"
          ]
        },
        {
          "name": "stderr",
          "output_type": "stream",
          "text": [
            "100%|██████████| 125/125 [01:30<00:00,  1.38it/s]\n"
          ]
        },
        {
          "name": "stdout",
          "output_type": "stream",
          "text": [
            "\n",
            "Epoch 1 Loss 24.84263265505433\n"
          ]
        },
        {
          "name": "stderr",
          "output_type": "stream",
          "text": [
            "100%|██████████| 125/125 [01:33<00:00,  1.34it/s]\n"
          ]
        },
        {
          "name": "stdout",
          "output_type": "stream",
          "text": [
            "\n",
            "Epoch 2 Loss 8.793289381079376\n"
          ]
        }
      ],
      "source": [
        "# Convention to use AdamW for training transformers\n",
        "\n",
        "learning_rate = 5e-5\n",
        "num_epochs = 3\n",
        "model_path = \"trained_imdb_sentiment\"\n",
        "optim = AdamW(model.parameters(), lr=learning_rate)\n",
        "\n",
        "for epoch in range(num_epochs):\n",
        "    loss_total = 0\n",
        "    for batch in tqdm(train_loader):\n",
        "        optim.zero_grad()\n",
        "        batch = {key: value.to(device) for key, value in batch.items()}\n",
        "        outputs = model(**batch)\n",
        "        # The default loss is Binary cross Entropy loss, no need to change that\n",
        "        loss = outputs[0]\n",
        "        loss.backward()\n",
        "        optim.step()\n",
        "        loss_total += loss.item()\n",
        "    print(f\"\\nEpoch {epoch} Loss {loss_total}\")\n",
        "  \n",
        "# Savin the model\n",
        "model.save_pretrained(model_path)\n",
        "tokenizer.save_pretrained(model_path)"
      ]
    },
    {
      "cell_type": "markdown",
      "metadata": {
        "id": "jImDZ6SM5-n4"
      },
      "source": [
        "#### Evaluation"
      ]
    },
    {
      "cell_type": "code",
      "execution_count": 22,
      "metadata": {
        "colab": {
          "base_uri": "https://localhost:8080/"
        },
        "id": "68p36r2Z1jG5",
        "outputId": "3531a61e-dab6-408a-fe6b-203f296d9d38"
      },
      "outputs": [
        {
          "name": "stderr",
          "output_type": "stream",
          "text": [
            "100%|██████████| 63/63 [00:08<00:00,  7.49it/s]\n"
          ]
        }
      ],
      "source": [
        "# since we're not training, we don't need to calculate the gradients for our outputs\n",
        "predictions = []\n",
        "with torch.no_grad():\n",
        "    for batch in tqdm(val_loader):\n",
        "        # calculate outputs by running images through the network\n",
        "        batch = {key: value.to(device) for key, value in batch.items()}\n",
        "        outputs = model(**batch)\n",
        "        predictions.append(torch.argmax(outputs.logits, axis=1).detach().cpu().numpy().tolist())"
      ]
    },
    {
      "cell_type": "code",
      "execution_count": 23,
      "metadata": {
        "colab": {
          "base_uri": "https://localhost:8080/",
          "height": 489
        },
        "id": "R-fY51F11XCy",
        "outputId": "0049ba60-a77d-448c-83f6-4200fc9d7e46"
      },
      "outputs": [
        {
          "data": {
            "text/plain": [
              "Text(0.5, 1.0, 'accuray: 0.9385')"
            ]
          },
          "execution_count": 23,
          "metadata": {},
          "output_type": "execute_result"
        },
        {
          "data": {
            "image/png": "[encoded data removed]",
            "text/plain": [
              "<Figure size 640x480 with 2 Axes>"
            ]
          },
          "metadata": {},
          "output_type": "display_data"
        }
      ],
      "source": [
        "predictions_list = [item for sublist in predictions for item in sublist]\n",
        "cm = confusion_matrix(df_val[\"labels\"], predictions_list)\n",
        "disp = ConfusionMatrixDisplay(confusion_matrix=cm)\n",
        "disp.plot()\n",
        "Accuracy = accuracy_score(df_val[\"labels\"], predictions_list)\n",
        "plt.title(f\"accuray: {accuracy}\")\n"
      ]
    },
    {
      "cell_type": "markdown",
      "metadata": {
        "id": "9VGu327tBeE8"
      },
      "source": [
        "Thransformer based model outperforms classical machine learning ones (obviousely)"
      ]
    },
    {
      "cell_type": "markdown",
      "metadata": {
        "id": "f7iQ1D0x6E4d"
      },
      "source": [
        "#### Inference"
      ]
    },
    {
      "cell_type": "code",
      "execution_count": 27,
      "metadata": {
        "id": "rGWNz32n6pol"
      },
      "outputs": [],
      "source": [
        "class Inferencer:\n",
        "  def __init__(self, model_dir: str):\n",
        "    self.tokenizer = AutoTokenizer.from_pretrained(model_dir)\n",
        "    self.model = AutoModelForSequenceClassification.from_pretrained(model_dir)\n",
        "    self.device = torch.device('cuda') if torch.cuda.is_available() else torch.device('cpu')\n",
        "    model.to(self.device)\n",
        "    model.eval()\n",
        "  \n",
        "  def preprocess_text(self, text: str) -> str:\n",
        "    return clean_text(text)\n",
        "  \n",
        "  def run(self, text: str) -> int:\n",
        "    text = self.preprocess_text(text)\n",
        "    encodes = self.tokenizer([text], truncation=True, return_tensors=\"pt\")\n",
        "    encodes = {key: value.to(device) for key, value in encodes.items()}\n",
        "    output = model(**encodes)\n",
        "    return torch.argmax(output.logits).cpu().item()\n"
      ]
    },
    {
      "cell_type": "code",
      "execution_count": 28,
      "metadata": {
        "id": "hZTXOq248fwM"
      },
      "outputs": [],
      "source": [
        "infer = Inferencer(model_path)"
      ]
    },
    {
      "cell_type": "code",
      "execution_count": 29,
      "metadata": {
        "colab": {
          "base_uri": "https://localhost:8080/"
        },
        "id": "Sr--kYeL8tbk",
        "outputId": "92a9a4cc-ddd4-42ac-8e6f-77640864ed13"
      },
      "outputs": [
        {
          "name": "stdout",
          "output_type": "stream",
          "text": [
            "I saw this movie alone when i was an early teen in my hometown in India, at a time when the only thing that fascinated me aside from girls were Tigers. I came home after watching it, with a glazed look in my eye, wanting to be that bloke in the movie that befriended the Tigers. What a movie and what a moment that was! The theatre I saw it in does not exist any and has given way to a shopping mall. I don't know how i'd feel about it now after so many years and do not want to spoil a childhood memory by finding this movie available on DVD or something similar and not finding it interesting anymore. I have learned from previous experience that a childhood memory is often tarnished when one travels life's jaded highways occasionally trying to rediscover their unadulterated past by way of movies, only to find its gushing innocence completely soppy and not welcome anymore. And I do not want to throw away the experiences of a memory of this movie into the wind. I do not have kids, so i probably am being selfish in leaving this movie in a sepia toned area of my brain, not wanting it on DVD. But if you are at a precocious age and want to recollect in later years memories of an endearing childhood, try to watch this film(if you can ever). It'll be really worth it.\n",
            "1 1\n",
            "********************\n",
            "I loved all the other Don Knotts movies, but I never heard much about \"How To Frame A Fig\" and now I know why: I can't think of anyone who would find it enjoyable. This movie seems to appeal to 9 or 10 year olds, but even most of them would give this a thumbs down. At best there are brief moments of mild amusement, mostly from Don Knotts playing the same nervous, underdog persona that made him famous.<br /><br />After the movie finally finished I was curious if my teenager could pick up on this movie's fatal flaw. We were in complete agreement: the Prentiss Gates sidekick character was even dumber than the Don Knotts character.<br /><br />Be happy that Mr. Limpet, Reluctant Astronaut, Shakiest Gun and Mr. Chicken movies are around to enjoy.\n",
            "0 0\n",
            "********************\n",
            "Russian actress TATIANA SAMOILOVA reminds me so much of the young Audrey Hepburn and the camera in THE CRANES ARE FLYING seems to love her just as much. She is the focal point of a bittersweet war romance against the background of World War II in Moscow.<br /><br />The film is almost poetic in its gorgeous B&W cinematography which was the main reason for watching the film in the first place, since I had never heard of it and decided to give it a try when it aired on TCM.<br /><br />It's a very moving love story about a girl's deep love for a man who is suddenly swept away by his role as a soldier drafted in wartime Russia. She's unable to forget the memory of her romantic attachment to him, but inexplicably marries someone else who has forced himself on her, a pianist who soon realizes that she still loves the soldier she hopes to hear from. Their marriage is a troubled one because she can't let go of her remembrance of a happier time with her soldier sweetheart.<br /><br />By the end of the story, she accepts the idea that he's never going to return and is able to face reality and cope with the situation. There's a very poignant final scene at a train station where arriving soldiers are greeting their loved ones and the tearful girl shares the joy of the returning soldiers by giving some flowers from her bouquet to the joyous families.<br /><br />The stylish and striking camera-work is what carries the film, as well as the honestly played story.<br /><br />Tastefully done, but perhaps the English subtitles didn't tell the whole tale because some of the plot elements seemed a bit blurred to me as if they had been glossed over.<br /><br />Summing up: Easy to see why it won awards at the Cannes Film Festival. Reminded me, in style, of another great Russian film, BALLAD OF A SOLDIER.\n",
            "1 1\n",
            "********************\n"
          ]
        }
      ],
      "source": [
        "for i in range(3):\n",
        "  sample = df_test.iloc[i][\"text\"]\n",
        "  label = df_test.iloc[i][\"labels\"]\n",
        "  pred = infer.run(sample)\n",
        "  print (sample)\n",
        "  print (pred, label)\n",
        "  print (\"*\"*20)\n"
      ]
    },
    {
      "cell_type": "markdown",
      "metadata": {
        "id": "k1lLRVkB_EN9"
      },
      "source": [
        "### Future steps\n",
        "\n",
        "- we should have an analysis stage. look at examples that we are making mistakes about. See whether we are making any systematic error. </br>\n",
        "\n",
        "- This was just one pass of training. we should tweak the important parameters like learning rate. </br>\n",
        "\n",
        "- the training loop needs more observability. it would be nice to know the validation accuracy as we are training.\n",
        "<br>\n",
        "\n",
        "- create a simple demo with gradio as it is easier to go over some examples and get some insight."
      ]
    },
    {
      "cell_type": "markdown",
      "metadata": {
        "id": "BVVOmWuqIfu6"
      },
      "source": [
        "### create a simple web server\n",
        "for the sake of having everything in the same place, instead of a seperate python file, we will put the code for server here.\n"
      ]
    },
    {
      "cell_type": "code",
      "execution_count": 38,
      "metadata": {
        "colab": {
          "base_uri": "https://localhost:8080/"
        },
        "id": "nivYbvP5Idmr",
        "outputId": "6ff167f1-6a97-428c-a6f9-7e2cc0386dd1"
      },
      "outputs": [
        {
          "name": "stdout",
          "output_type": "stream",
          "text": [
            " * Serving Flask app 'sentiment-analysis'\n",
            " * Debug mode: on\n"
          ]
        },
        {
          "name": "stderr",
          "output_type": "stream",
          "text": [
            "INFO:werkzeug:\u001b[31m\u001b[1mWARNING: This is a development server. Do not use it in a production deployment. Use a production WSGI server instead.\u001b[0m\n",
            " * Running on http://127.0.0.1:5000\n",
            "INFO:werkzeug:\u001b[33mPress CTRL+C to quit\u001b[0m\n",
            "INFO:werkzeug: * Restarting with stat\n"
          ]
        }
      ],
      "source": [
        "from flask import Flask, request, jsonify\n",
        "\n",
        "MODEL_PATH = \"trained_imdb_sentiment\"\n",
        "\n",
        "\n",
        "app = Flask('sentiment-analysis')\n",
        "\n",
        "infer = Inferencer(MODEL_PATH)\n",
        "\n",
        "@app.route('/predict', methods=['POST'])\n",
        "def predict_endpoint():\n",
        "    data = request.get_json()\n",
        "\n",
        "    pred = infer.run(data[\"text\"])\n",
        "\n",
        "    result = {'sentiment': pred}\n",
        "\n",
        "    return jsonify(result)\n",
        "\n",
        "if __name__ == \"__main__\":\n",
        "    app.run(debug=True)"
      ]
    },
    {
      "cell_type": "code",
      "execution_count": 37,
      "metadata": {
        "colab": {
          "base_uri": "https://localhost:8080/"
        },
        "id": "-J184wPvL2N8",
        "outputId": "1b2b91c3-43fc-4465-905f-76791eb08d2e"
      },
      "outputs": [
        {
          "name": "stdout",
          "output_type": "stream",
          "text": [
            "1 \n",
            " I saw this movie alone when i was an early teen in my hometown in India, at a time when the only thing that fascinated me aside from girls were Tigers. I came home after watching it, with a glazed look in my eye, wanting to be that bloke in the movie that befriended the Tigers. What a movie and what a moment that was! The theatre I saw it in does not exist any and has given way to a shopping mall. I don't know how i'd feel about it now after so many years and do not want to spoil a childhood memory by finding this movie available on DVD or something similar and not finding it interesting anymore. I have learned from previous experience that a childhood memory is often tarnished when one travels life's jaded highways occasionally trying to rediscover their unadulterated past by way of movies, only to find its gushing innocence completely soppy and not welcome anymore. And I do not want to throw away the experiences of a memory of this movie into the wind. I do not have kids, so i probably am being selfish in leaving this movie in a sepia toned area of my brain, not wanting it on DVD. But if you are at a precocious age and want to recollect in later years memories of an endearing childhood, try to watch this film(if you can ever). It'll be really worth it.\n"
          ]
        }
      ],
      "source": [
        "sample = df_test.iloc[0][\"text\"]\n",
        "print (df_test.iloc[0][\"labels\"], \"\\n\", sample)"
      ]
    },
    {
      "cell_type": "code",
      "execution_count": null,
      "metadata": {
        "id": "4anE0KXr_rnM"
      },
      "outputs": [],
      "source": [
        "# Make a call form another python script or from terminal using curl\n",
        "import requests\n",
        "\n",
        "url = 'http://localhost:5000/predict'\n",
        "r = requests.post(url,json={'text': sample})\n",
        "\n",
        "print(r.json())"
      ]
    }
  ],
  "metadata": {
    "accelerator": "GPU",
    "colab": {
      "gpuType": "T4",
      "provenance": []
    },
    "kernelspec": {
      "display_name": ".mlprod_env",
      "language": "python",
      "name": "python3"
    },
    "language_info": {
      "codemirror_mode": {
        "name": "ipython",
        "version": 3
      },
      "file_extension": ".py",
      "mimetype": "text/x-python",
      "name": "python",
      "nbconvert_exporter": "python",
      "pygments_lexer": "ipython3",
      "version": "3.8.9"
    },
    "vscode": {
      "interpreter": {
        "hash": "15693caa82dc60ff05f50315a968695118bcbc28f356a190c2818769e82997e8"
      }
    },
    "widgets": {
      "application/vnd.jupyter.widget-state+json": {
        "0209a615aa894d379e761c42db3f4364": {
          "model_module": "@jupyter-widgets/controls",
          "model_module_version": "1.5.0",
          "model_name": "FloatProgressModel",
          "state": {
            "_dom_classes": [],
            "_model_module": "@jupyter-widgets/controls",
            "_model_module_version": "1.5.0",
            "_model_name": "FloatProgressModel",
            "_view_count": null,
            "_view_module": "@jupyter-widgets/controls",
            "_view_module_version": "1.5.0",
            "_view_name": "ProgressView",
            "bar_style": "success",
            "description": "",
            "description_tooltip": null,
            "layout": "IPY_MODEL_b272d749e73e4e63a8e0bafd769ec8d2",
            "max": 231508,
            "min": 0,
            "orientation": "horizontal",
            "style": "IPY_MODEL_278a5ebd904746d3b77b6aa431db0c62",
            "value": 231508
          }
        },
        "0343a5dd5fcb4d458b407ff418e42708": {
          "model_module": "@jupyter-widgets/base",
          "model_module_version": "1.2.0",
          "model_name": "LayoutModel",
          "state": {
            "_model_module": "@jupyter-widgets/base",
            "_model_module_version": "1.2.0",
            "_model_name": "LayoutModel",
            "_view_count": null,
            "_view_module": "@jupyter-widgets/base",
            "_view_module_version": "1.2.0",
            "_view_name": "LayoutView",
            "align_content": null,
            "align_items": null,
            "align_self": null,
            "border": null,
            "bottom": null,
            "display": null,
            "flex": null,
            "flex_flow": null,
            "grid_area": null,
            "grid_auto_columns": null,
            "grid_auto_flow": null,
            "grid_auto_rows": null,
            "grid_column": null,
            "grid_gap": null,
            "grid_row": null,
            "grid_template_areas": null,
            "grid_template_columns": null,
            "grid_template_rows": null,
            "height": null,
            "justify_content": null,
            "justify_items": null,
            "left": null,
            "margin": null,
            "max_height": null,
            "max_width": null,
            "min_height": null,
            "min_width": null,
            "object_fit": null,
            "object_position": null,
            "order": null,
            "overflow": null,
            "overflow_x": null,
            "overflow_y": null,
            "padding": null,
            "right": null,
            "top": null,
            "visibility": null,
            "width": null
          }
        },
        "068f223cad63483ea18201fe5b3da293": {
          "model_module": "@jupyter-widgets/controls",
          "model_module_version": "1.5.0",
          "model_name": "FloatProgressModel",
          "state": {
            "_dom_classes": [],
            "_model_module": "@jupyter-widgets/controls",
            "_model_module_version": "1.5.0",
            "_model_name": "FloatProgressModel",
            "_view_count": null,
            "_view_module": "@jupyter-widgets/controls",
            "_view_module_version": "1.5.0",
            "_view_name": "ProgressView",
            "bar_style": "success",
            "description": "",
            "description_tooltip": null,
            "layout": "IPY_MODEL_7ba28bf24f024365bbbb65ccf9d3e85a",
            "max": 483,
            "min": 0,
            "orientation": "horizontal",
            "style": "IPY_MODEL_471781ca7fe34ec8ba2979832886da64",
            "value": 483
          }
        },
        "12cb2d14c38646f4af199bc7ab0dc441": {
          "model_module": "@jupyter-widgets/controls",
          "model_module_version": "1.5.0",
          "model_name": "DescriptionStyleModel",
          "state": {
            "_model_module": "@jupyter-widgets/controls",
            "_model_module_version": "1.5.0",
            "_model_name": "DescriptionStyleModel",
            "_view_count": null,
            "_view_module": "@jupyter-widgets/base",
            "_view_module_version": "1.2.0",
            "_view_name": "StyleView",
            "description_width": ""
          }
        },
        "1b4e7bd7b9ef44dcaac4651c606a0b21": {
          "model_module": "@jupyter-widgets/controls",
          "model_module_version": "1.5.0",
          "model_name": "FloatProgressModel",
          "state": {
            "_dom_classes": [],
            "_model_module": "@jupyter-widgets/controls",
            "_model_module_version": "1.5.0",
            "_model_name": "FloatProgressModel",
            "_view_count": null,
            "_view_module": "@jupyter-widgets/controls",
            "_view_module_version": "1.5.0",
            "_view_name": "ProgressView",
            "bar_style": "success",
            "description": "",
            "description_tooltip": null,
            "layout": "IPY_MODEL_890c9c4c5bd0442eb8e70d9686dba8f2",
            "max": 466062,
            "min": 0,
            "orientation": "horizontal",
            "style": "IPY_MODEL_851cf92b31e7427596be31e4cabb451e",
            "value": 466062
          }
        },
        "1e7f9f10b3fe45b4bfd8902583d73002": {
          "model_module": "@jupyter-widgets/controls",
          "model_module_version": "1.5.0",
          "model_name": "DescriptionStyleModel",
          "state": {
            "_model_module": "@jupyter-widgets/controls",
            "_model_module_version": "1.5.0",
            "_model_name": "DescriptionStyleModel",
            "_view_count": null,
            "_view_module": "@jupyter-widgets/base",
            "_view_module_version": "1.2.0",
            "_view_name": "StyleView",
            "description_width": ""
          }
        },
        "210bfcc51dd84c259b943161b4ed63e6": {
          "model_module": "@jupyter-widgets/controls",
          "model_module_version": "1.5.0",
          "model_name": "DescriptionStyleModel",
          "state": {
            "_model_module": "@jupyter-widgets/controls",
            "_model_module_version": "1.5.0",
            "_model_name": "DescriptionStyleModel",
            "_view_count": null,
            "_view_module": "@jupyter-widgets/base",
            "_view_module_version": "1.2.0",
            "_view_name": "StyleView",
            "description_width": ""
          }
        },
        "272097fa75014ebe90d0975849e2a658": {
          "model_module": "@jupyter-widgets/controls",
          "model_module_version": "1.5.0",
          "model_name": "HTMLModel",
          "state": {
            "_dom_classes": [],
            "_model_module": "@jupyter-widgets/controls",
            "_model_module_version": "1.5.0",
            "_model_name": "HTMLModel",
            "_view_count": null,
            "_view_module": "@jupyter-widgets/controls",
            "_view_module_version": "1.5.0",
            "_view_name": "HTMLView",
            "description": "",
            "description_tooltip": null,
            "layout": "IPY_MODEL_d2019ded415e4e7a9a8024f14157bd93",
            "placeholder": "​",
            "style": "IPY_MODEL_210bfcc51dd84c259b943161b4ed63e6",
            "value": "Downloading (…)lve/main/config.json: 100%"
          }
        },
        "278a5ebd904746d3b77b6aa431db0c62": {
          "model_module": "@jupyter-widgets/controls",
          "model_module_version": "1.5.0",
          "model_name": "ProgressStyleModel",
          "state": {
            "_model_module": "@jupyter-widgets/controls",
            "_model_module_version": "1.5.0",
            "_model_name": "ProgressStyleModel",
            "_view_count": null,
            "_view_module": "@jupyter-widgets/base",
            "_view_module_version": "1.2.0",
            "_view_name": "StyleView",
            "bar_color": null,
            "description_width": ""
          }
        },
        "2a295a2840604b54a2b5c7565ec78884": {
          "model_module": "@jupyter-widgets/base",
          "model_module_version": "1.2.0",
          "model_name": "LayoutModel",
          "state": {
            "_model_module": "@jupyter-widgets/base",
            "_model_module_version": "1.2.0",
            "_model_name": "LayoutModel",
            "_view_count": null,
            "_view_module": "@jupyter-widgets/base",
            "_view_module_version": "1.2.0",
            "_view_name": "LayoutView",
            "align_content": null,
            "align_items": null,
            "align_self": null,
            "border": null,
            "bottom": null,
            "display": null,
            "flex": null,
            "flex_flow": null,
            "grid_area": null,
            "grid_auto_columns": null,
            "grid_auto_flow": null,
            "grid_auto_rows": null,
            "grid_column": null,
            "grid_gap": null,
            "grid_row": null,
            "grid_template_areas": null,
            "grid_template_columns": null,
            "grid_template_rows": null,
            "height": null,
            "justify_content": null,
            "justify_items": null,
            "left": null,
            "margin": null,
            "max_height": null,
            "max_width": null,
            "min_height": null,
            "min_width": null,
            "object_fit": null,
            "object_position": null,
            "order": null,
            "overflow": null,
            "overflow_x": null,
            "overflow_y": null,
            "padding": null,
            "right": null,
            "top": null,
            "visibility": null,
            "width": null
          }
        },
        "2b21cfbb59454f19b5c76a7028bc8180": {
          "model_module": "@jupyter-widgets/controls",
          "model_module_version": "1.5.0",
          "model_name": "HBoxModel",
          "state": {
            "_dom_classes": [],
            "_model_module": "@jupyter-widgets/controls",
            "_model_module_version": "1.5.0",
            "_model_name": "HBoxModel",
            "_view_count": null,
            "_view_module": "@jupyter-widgets/controls",
            "_view_module_version": "1.5.0",
            "_view_name": "HBoxView",
            "box_style": "",
            "children": [
              "IPY_MODEL_272097fa75014ebe90d0975849e2a658",
              "IPY_MODEL_068f223cad63483ea18201fe5b3da293",
              "IPY_MODEL_5d0e6bbb48f040e096e18f1a43827ae8"
            ],
            "layout": "IPY_MODEL_0343a5dd5fcb4d458b407ff418e42708"
          }
        },
        "2da630d7dd924d91afb748029e86ba47": {
          "model_module": "@jupyter-widgets/base",
          "model_module_version": "1.2.0",
          "model_name": "LayoutModel",
          "state": {
            "_model_module": "@jupyter-widgets/base",
            "_model_module_version": "1.2.0",
            "_model_name": "LayoutModel",
            "_view_count": null,
            "_view_module": "@jupyter-widgets/base",
            "_view_module_version": "1.2.0",
            "_view_name": "LayoutView",
            "align_content": null,
            "align_items": null,
            "align_self": null,
            "border": null,
            "bottom": null,
            "display": null,
            "flex": null,
            "flex_flow": null,
            "grid_area": null,
            "grid_auto_columns": null,
            "grid_auto_flow": null,
            "grid_auto_rows": null,
            "grid_column": null,
            "grid_gap": null,
            "grid_row": null,
            "grid_template_areas": null,
            "grid_template_columns": null,
            "grid_template_rows": null,
            "height": null,
            "justify_content": null,
            "justify_items": null,
            "left": null,
            "margin": null,
            "max_height": null,
            "max_width": null,
            "min_height": null,
            "min_width": null,
            "object_fit": null,
            "object_position": null,
            "order": null,
            "overflow": null,
            "overflow_x": null,
            "overflow_y": null,
            "padding": null,
            "right": null,
            "top": null,
            "visibility": null,
            "width": null
          }
        },
        "326bebe5ebbe4aac9412ac9cc11b8b6b": {
          "model_module": "@jupyter-widgets/base",
          "model_module_version": "1.2.0",
          "model_name": "LayoutModel",
          "state": {
            "_model_module": "@jupyter-widgets/base",
            "_model_module_version": "1.2.0",
            "_model_name": "LayoutModel",
            "_view_count": null,
            "_view_module": "@jupyter-widgets/base",
            "_view_module_version": "1.2.0",
            "_view_name": "LayoutView",
            "align_content": null,
            "align_items": null,
            "align_self": null,
            "border": null,
            "bottom": null,
            "display": null,
            "flex": null,
            "flex_flow": null,
            "grid_area": null,
            "grid_auto_columns": null,
            "grid_auto_flow": null,
            "grid_auto_rows": null,
            "grid_column": null,
            "grid_gap": null,
            "grid_row": null,
            "grid_template_areas": null,
            "grid_template_columns": null,
            "grid_template_rows": null,
            "height": null,
            "justify_content": null,
            "justify_items": null,
            "left": null,
            "margin": null,
            "max_height": null,
            "max_width": null,
            "min_height": null,
            "min_width": null,
            "object_fit": null,
            "object_position": null,
            "order": null,
            "overflow": null,
            "overflow_x": null,
            "overflow_y": null,
            "padding": null,
            "right": null,
            "top": null,
            "visibility": null,
            "width": null
          }
        },
        "353b4efeb9e144f79eb06fb22602c303": {
          "model_module": "@jupyter-widgets/controls",
          "model_module_version": "1.5.0",
          "model_name": "HTMLModel",
          "state": {
            "_dom_classes": [],
            "_model_module": "@jupyter-widgets/controls",
            "_model_module_version": "1.5.0",
            "_model_name": "HTMLModel",
            "_view_count": null,
            "_view_module": "@jupyter-widgets/controls",
            "_view_module_version": "1.5.0",
            "_view_name": "HTMLView",
            "description": "",
            "description_tooltip": null,
            "layout": "IPY_MODEL_bb5ee39175144d4ca48eb2a942aabc35",
            "placeholder": "​",
            "style": "IPY_MODEL_b0a1839bdecb41a48ea80d6de988459f",
            "value": "Downloading pytorch_model.bin: 100%"
          }
        },
        "3d625900266944068f1129744491515e": {
          "model_module": "@jupyter-widgets/controls",
          "model_module_version": "1.5.0",
          "model_name": "HBoxModel",
          "state": {
            "_dom_classes": [],
            "_model_module": "@jupyter-widgets/controls",
            "_model_module_version": "1.5.0",
            "_model_name": "HBoxModel",
            "_view_count": null,
            "_view_module": "@jupyter-widgets/controls",
            "_view_module_version": "1.5.0",
            "_view_name": "HBoxView",
            "box_style": "",
            "children": [
              "IPY_MODEL_e2f9ec65456c44d582dd6b6a33559663",
              "IPY_MODEL_1b4e7bd7b9ef44dcaac4651c606a0b21",
              "IPY_MODEL_7a3f9906b45f4920b4f8b344e181eab4"
            ],
            "layout": "IPY_MODEL_2da630d7dd924d91afb748029e86ba47"
          }
        },
        "417ee0106be74a60a89cb3e5c2ebce04": {
          "model_module": "@jupyter-widgets/base",
          "model_module_version": "1.2.0",
          "model_name": "LayoutModel",
          "state": {
            "_model_module": "@jupyter-widgets/base",
            "_model_module_version": "1.2.0",
            "_model_name": "LayoutModel",
            "_view_count": null,
            "_view_module": "@jupyter-widgets/base",
            "_view_module_version": "1.2.0",
            "_view_name": "LayoutView",
            "align_content": null,
            "align_items": null,
            "align_self": null,
            "border": null,
            "bottom": null,
            "display": null,
            "flex": null,
            "flex_flow": null,
            "grid_area": null,
            "grid_auto_columns": null,
            "grid_auto_flow": null,
            "grid_auto_rows": null,
            "grid_column": null,
            "grid_gap": null,
            "grid_row": null,
            "grid_template_areas": null,
            "grid_template_columns": null,
            "grid_template_rows": null,
            "height": null,
            "justify_content": null,
            "justify_items": null,
            "left": null,
            "margin": null,
            "max_height": null,
            "max_width": null,
            "min_height": null,
            "min_width": null,
            "object_fit": null,
            "object_position": null,
            "order": null,
            "overflow": null,
            "overflow_x": null,
            "overflow_y": null,
            "padding": null,
            "right": null,
            "top": null,
            "visibility": null,
            "width": null
          }
        },
        "471781ca7fe34ec8ba2979832886da64": {
          "model_module": "@jupyter-widgets/controls",
          "model_module_version": "1.5.0",
          "model_name": "ProgressStyleModel",
          "state": {
            "_model_module": "@jupyter-widgets/controls",
            "_model_module_version": "1.5.0",
            "_model_name": "ProgressStyleModel",
            "_view_count": null,
            "_view_module": "@jupyter-widgets/base",
            "_view_module_version": "1.2.0",
            "_view_name": "StyleView",
            "bar_color": null,
            "description_width": ""
          }
        },
        "4cc27fa1a8e74e4787dbb0377a583b65": {
          "model_module": "@jupyter-widgets/controls",
          "model_module_version": "1.5.0",
          "model_name": "HTMLModel",
          "state": {
            "_dom_classes": [],
            "_model_module": "@jupyter-widgets/controls",
            "_model_module_version": "1.5.0",
            "_model_name": "HTMLModel",
            "_view_count": null,
            "_view_module": "@jupyter-widgets/controls",
            "_view_module_version": "1.5.0",
            "_view_name": "HTMLView",
            "description": "",
            "description_tooltip": null,
            "layout": "IPY_MODEL_417ee0106be74a60a89cb3e5c2ebce04",
            "placeholder": "​",
            "style": "IPY_MODEL_5e371c924c83499299a9baaa7b49b732",
            "value": "Downloading (…)okenizer_config.json: 100%"
          }
        },
        "5d0e6bbb48f040e096e18f1a43827ae8": {
          "model_module": "@jupyter-widgets/controls",
          "model_module_version": "1.5.0",
          "model_name": "HTMLModel",
          "state": {
            "_dom_classes": [],
            "_model_module": "@jupyter-widgets/controls",
            "_model_module_version": "1.5.0",
            "_model_name": "HTMLModel",
            "_view_count": null,
            "_view_module": "@jupyter-widgets/controls",
            "_view_module_version": "1.5.0",
            "_view_name": "HTMLView",
            "description": "",
            "description_tooltip": null,
            "layout": "IPY_MODEL_81e9f1f204f04bf5bf7e46bdedab2fee",
            "placeholder": "​",
            "style": "IPY_MODEL_12cb2d14c38646f4af199bc7ab0dc441",
            "value": " 483/483 [00:00&lt;00:00, 40.6kB/s]"
          }
        },
        "5e0bb7c346da4a0eb9d9a7c8b0ce9486": {
          "model_module": "@jupyter-widgets/base",
          "model_module_version": "1.2.0",
          "model_name": "LayoutModel",
          "state": {
            "_model_module": "@jupyter-widgets/base",
            "_model_module_version": "1.2.0",
            "_model_name": "LayoutModel",
            "_view_count": null,
            "_view_module": "@jupyter-widgets/base",
            "_view_module_version": "1.2.0",
            "_view_name": "LayoutView",
            "align_content": null,
            "align_items": null,
            "align_self": null,
            "border": null,
            "bottom": null,
            "display": null,
            "flex": null,
            "flex_flow": null,
            "grid_area": null,
            "grid_auto_columns": null,
            "grid_auto_flow": null,
            "grid_auto_rows": null,
            "grid_column": null,
            "grid_gap": null,
            "grid_row": null,
            "grid_template_areas": null,
            "grid_template_columns": null,
            "grid_template_rows": null,
            "height": null,
            "justify_content": null,
            "justify_items": null,
            "left": null,
            "margin": null,
            "max_height": null,
            "max_width": null,
            "min_height": null,
            "min_width": null,
            "object_fit": null,
            "object_position": null,
            "order": null,
            "overflow": null,
            "overflow_x": null,
            "overflow_y": null,
            "padding": null,
            "right": null,
            "top": null,
            "visibility": null,
            "width": null
          }
        },
        "5e371c924c83499299a9baaa7b49b732": {
          "model_module": "@jupyter-widgets/controls",
          "model_module_version": "1.5.0",
          "model_name": "DescriptionStyleModel",
          "state": {
            "_model_module": "@jupyter-widgets/controls",
            "_model_module_version": "1.5.0",
            "_model_name": "DescriptionStyleModel",
            "_view_count": null,
            "_view_module": "@jupyter-widgets/base",
            "_view_module_version": "1.2.0",
            "_view_name": "StyleView",
            "description_width": ""
          }
        },
        "6b1f43f88c7246a1842b87a3537f1a9f": {
          "model_module": "@jupyter-widgets/base",
          "model_module_version": "1.2.0",
          "model_name": "LayoutModel",
          "state": {
            "_model_module": "@jupyter-widgets/base",
            "_model_module_version": "1.2.0",
            "_model_name": "LayoutModel",
            "_view_count": null,
            "_view_module": "@jupyter-widgets/base",
            "_view_module_version": "1.2.0",
            "_view_name": "LayoutView",
            "align_content": null,
            "align_items": null,
            "align_self": null,
            "border": null,
            "bottom": null,
            "display": null,
            "flex": null,
            "flex_flow": null,
            "grid_area": null,
            "grid_auto_columns": null,
            "grid_auto_flow": null,
            "grid_auto_rows": null,
            "grid_column": null,
            "grid_gap": null,
            "grid_row": null,
            "grid_template_areas": null,
            "grid_template_columns": null,
            "grid_template_rows": null,
            "height": null,
            "justify_content": null,
            "justify_items": null,
            "left": null,
            "margin": null,
            "max_height": null,
            "max_width": null,
            "min_height": null,
            "min_width": null,
            "object_fit": null,
            "object_position": null,
            "order": null,
            "overflow": null,
            "overflow_x": null,
            "overflow_y": null,
            "padding": null,
            "right": null,
            "top": null,
            "visibility": null,
            "width": null
          }
        },
        "7a3f9906b45f4920b4f8b344e181eab4": {
          "model_module": "@jupyter-widgets/controls",
          "model_module_version": "1.5.0",
          "model_name": "HTMLModel",
          "state": {
            "_dom_classes": [],
            "_model_module": "@jupyter-widgets/controls",
            "_model_module_version": "1.5.0",
            "_model_name": "HTMLModel",
            "_view_count": null,
            "_view_module": "@jupyter-widgets/controls",
            "_view_module_version": "1.5.0",
            "_view_name": "HTMLView",
            "description": "",
            "description_tooltip": null,
            "layout": "IPY_MODEL_e49c6aef654b42e69bc3c23ac439556c",
            "placeholder": "​",
            "style": "IPY_MODEL_7c97e5a8797a4546aa788dfef30dc3d6",
            "value": " 466k/466k [00:00&lt;00:00, 733kB/s]"
          }
        },
        "7ba28bf24f024365bbbb65ccf9d3e85a": {
          "model_module": "@jupyter-widgets/base",
          "model_module_version": "1.2.0",
          "model_name": "LayoutModel",
          "state": {
            "_model_module": "@jupyter-widgets/base",
            "_model_module_version": "1.2.0",
            "_model_name": "LayoutModel",
            "_view_count": null,
            "_view_module": "@jupyter-widgets/base",
            "_view_module_version": "1.2.0",
            "_view_name": "LayoutView",
            "align_content": null,
            "align_items": null,
            "align_self": null,
            "border": null,
            "bottom": null,
            "display": null,
            "flex": null,
            "flex_flow": null,
            "grid_area": null,
            "grid_auto_columns": null,
            "grid_auto_flow": null,
            "grid_auto_rows": null,
            "grid_column": null,
            "grid_gap": null,
            "grid_row": null,
            "grid_template_areas": null,
            "grid_template_columns": null,
            "grid_template_rows": null,
            "height": null,
            "justify_content": null,
            "justify_items": null,
            "left": null,
            "margin": null,
            "max_height": null,
            "max_width": null,
            "min_height": null,
            "min_width": null,
            "object_fit": null,
            "object_position": null,
            "order": null,
            "overflow": null,
            "overflow_x": null,
            "overflow_y": null,
            "padding": null,
            "right": null,
            "top": null,
            "visibility": null,
            "width": null
          }
        },
        "7c97e5a8797a4546aa788dfef30dc3d6": {
          "model_module": "@jupyter-widgets/controls",
          "model_module_version": "1.5.0",
          "model_name": "DescriptionStyleModel",
          "state": {
            "_model_module": "@jupyter-widgets/controls",
            "_model_module_version": "1.5.0",
            "_model_name": "DescriptionStyleModel",
            "_view_count": null,
            "_view_module": "@jupyter-widgets/base",
            "_view_module_version": "1.2.0",
            "_view_name": "StyleView",
            "description_width": ""
          }
        },
        "7f0eb4c99fd64588be4c310477bb8c10": {
          "model_module": "@jupyter-widgets/controls",
          "model_module_version": "1.5.0",
          "model_name": "DescriptionStyleModel",
          "state": {
            "_model_module": "@jupyter-widgets/controls",
            "_model_module_version": "1.5.0",
            "_model_name": "DescriptionStyleModel",
            "_view_count": null,
            "_view_module": "@jupyter-widgets/base",
            "_view_module_version": "1.2.0",
            "_view_name": "StyleView",
            "description_width": ""
          }
        },
        "81e9f1f204f04bf5bf7e46bdedab2fee": {
          "model_module": "@jupyter-widgets/base",
          "model_module_version": "1.2.0",
          "model_name": "LayoutModel",
          "state": {
            "_model_module": "@jupyter-widgets/base",
            "_model_module_version": "1.2.0",
            "_model_name": "LayoutModel",
            "_view_count": null,
            "_view_module": "@jupyter-widgets/base",
            "_view_module_version": "1.2.0",
            "_view_name": "LayoutView",
            "align_content": null,
            "align_items": null,
            "align_self": null,
            "border": null,
            "bottom": null,
            "display": null,
            "flex": null,
            "flex_flow": null,
            "grid_area": null,
            "grid_auto_columns": null,
            "grid_auto_flow": null,
            "grid_auto_rows": null,
            "grid_column": null,
            "grid_gap": null,
            "grid_row": null,
            "grid_template_areas": null,
            "grid_template_columns": null,
            "grid_template_rows": null,
            "height": null,
            "justify_content": null,
            "justify_items": null,
            "left": null,
            "margin": null,
            "max_height": null,
            "max_width": null,
            "min_height": null,
            "min_width": null,
            "object_fit": null,
            "object_position": null,
            "order": null,
            "overflow": null,
            "overflow_x": null,
            "overflow_y": null,
            "padding": null,
            "right": null,
            "top": null,
            "visibility": null,
            "width": null
          }
        },
        "851cf92b31e7427596be31e4cabb451e": {
          "model_module": "@jupyter-widgets/controls",
          "model_module_version": "1.5.0",
          "model_name": "ProgressStyleModel",
          "state": {
            "_model_module": "@jupyter-widgets/controls",
            "_model_module_version": "1.5.0",
            "_model_name": "ProgressStyleModel",
            "_view_count": null,
            "_view_module": "@jupyter-widgets/base",
            "_view_module_version": "1.2.0",
            "_view_name": "StyleView",
            "bar_color": null,
            "description_width": ""
          }
        },
        "85f9422473354e5095590f569c6807f4": {
          "model_module": "@jupyter-widgets/base",
          "model_module_version": "1.2.0",
          "model_name": "LayoutModel",
          "state": {
            "_model_module": "@jupyter-widgets/base",
            "_model_module_version": "1.2.0",
            "_model_name": "LayoutModel",
            "_view_count": null,
            "_view_module": "@jupyter-widgets/base",
            "_view_module_version": "1.2.0",
            "_view_name": "LayoutView",
            "align_content": null,
            "align_items": null,
            "align_self": null,
            "border": null,
            "bottom": null,
            "display": null,
            "flex": null,
            "flex_flow": null,
            "grid_area": null,
            "grid_auto_columns": null,
            "grid_auto_flow": null,
            "grid_auto_rows": null,
            "grid_column": null,
            "grid_gap": null,
            "grid_row": null,
            "grid_template_areas": null,
            "grid_template_columns": null,
            "grid_template_rows": null,
            "height": null,
            "justify_content": null,
            "justify_items": null,
            "left": null,
            "margin": null,
            "max_height": null,
            "max_width": null,
            "min_height": null,
            "min_width": null,
            "object_fit": null,
            "object_position": null,
            "order": null,
            "overflow": null,
            "overflow_x": null,
            "overflow_y": null,
            "padding": null,
            "right": null,
            "top": null,
            "visibility": null,
            "width": null
          }
        },
        "890c9c4c5bd0442eb8e70d9686dba8f2": {
          "model_module": "@jupyter-widgets/base",
          "model_module_version": "1.2.0",
          "model_name": "LayoutModel",
          "state": {
            "_model_module": "@jupyter-widgets/base",
            "_model_module_version": "1.2.0",
            "_model_name": "LayoutModel",
            "_view_count": null,
            "_view_module": "@jupyter-widgets/base",
            "_view_module_version": "1.2.0",
            "_view_name": "LayoutView",
            "align_content": null,
            "align_items": null,
            "align_self": null,
            "border": null,
            "bottom": null,
            "display": null,
            "flex": null,
            "flex_flow": null,
            "grid_area": null,
            "grid_auto_columns": null,
            "grid_auto_flow": null,
            "grid_auto_rows": null,
            "grid_column": null,
            "grid_gap": null,
            "grid_row": null,
            "grid_template_areas": null,
            "grid_template_columns": null,
            "grid_template_rows": null,
            "height": null,
            "justify_content": null,
            "justify_items": null,
            "left": null,
            "margin": null,
            "max_height": null,
            "max_width": null,
            "min_height": null,
            "min_width": null,
            "object_fit": null,
            "object_position": null,
            "order": null,
            "overflow": null,
            "overflow_x": null,
            "overflow_y": null,
            "padding": null,
            "right": null,
            "top": null,
            "visibility": null,
            "width": null
          }
        },
        "8a7abe166d0e46dc82d07f5c16b94332": {
          "model_module": "@jupyter-widgets/controls",
          "model_module_version": "1.5.0",
          "model_name": "HBoxModel",
          "state": {
            "_dom_classes": [],
            "_model_module": "@jupyter-widgets/controls",
            "_model_module_version": "1.5.0",
            "_model_name": "HBoxModel",
            "_view_count": null,
            "_view_module": "@jupyter-widgets/controls",
            "_view_module_version": "1.5.0",
            "_view_name": "HBoxView",
            "box_style": "",
            "children": [
              "IPY_MODEL_353b4efeb9e144f79eb06fb22602c303",
              "IPY_MODEL_a1efffabcb00423cb4aa5eb481176711",
              "IPY_MODEL_ecebfcd64c6e47c19e250268b9ce3d6e"
            ],
            "layout": "IPY_MODEL_f02871a289784afbbc4a422010b9581f"
          }
        },
        "9e6683d66cb343b4a7938ecf6e586a27": {
          "model_module": "@jupyter-widgets/base",
          "model_module_version": "1.2.0",
          "model_name": "LayoutModel",
          "state": {
            "_model_module": "@jupyter-widgets/base",
            "_model_module_version": "1.2.0",
            "_model_name": "LayoutModel",
            "_view_count": null,
            "_view_module": "@jupyter-widgets/base",
            "_view_module_version": "1.2.0",
            "_view_name": "LayoutView",
            "align_content": null,
            "align_items": null,
            "align_self": null,
            "border": null,
            "bottom": null,
            "display": null,
            "flex": null,
            "flex_flow": null,
            "grid_area": null,
            "grid_auto_columns": null,
            "grid_auto_flow": null,
            "grid_auto_rows": null,
            "grid_column": null,
            "grid_gap": null,
            "grid_row": null,
            "grid_template_areas": null,
            "grid_template_columns": null,
            "grid_template_rows": null,
            "height": null,
            "justify_content": null,
            "justify_items": null,
            "left": null,
            "margin": null,
            "max_height": null,
            "max_width": null,
            "min_height": null,
            "min_width": null,
            "object_fit": null,
            "object_position": null,
            "order": null,
            "overflow": null,
            "overflow_x": null,
            "overflow_y": null,
            "padding": null,
            "right": null,
            "top": null,
            "visibility": null,
            "width": null
          }
        },
        "9e9abdae3b79454ead6d4c87d0602ae1": {
          "model_module": "@jupyter-widgets/controls",
          "model_module_version": "1.5.0",
          "model_name": "DescriptionStyleModel",
          "state": {
            "_model_module": "@jupyter-widgets/controls",
            "_model_module_version": "1.5.0",
            "_model_name": "DescriptionStyleModel",
            "_view_count": null,
            "_view_module": "@jupyter-widgets/base",
            "_view_module_version": "1.2.0",
            "_view_name": "StyleView",
            "description_width": ""
          }
        },
        "a1efffabcb00423cb4aa5eb481176711": {
          "model_module": "@jupyter-widgets/controls",
          "model_module_version": "1.5.0",
          "model_name": "FloatProgressModel",
          "state": {
            "_dom_classes": [],
            "_model_module": "@jupyter-widgets/controls",
            "_model_module_version": "1.5.0",
            "_model_name": "FloatProgressModel",
            "_view_count": null,
            "_view_module": "@jupyter-widgets/controls",
            "_view_module_version": "1.5.0",
            "_view_name": "ProgressView",
            "bar_style": "success",
            "description": "",
            "description_tooltip": null,
            "layout": "IPY_MODEL_abaf2f53b5794fc18a90f9bccdbe1d89",
            "max": 267967963,
            "min": 0,
            "orientation": "horizontal",
            "style": "IPY_MODEL_b78c5e48533d403b8a968e70b2daa85d",
            "value": 267967963
          }
        },
        "a3787f14996c418d949c238dba7d339f": {
          "model_module": "@jupyter-widgets/controls",
          "model_module_version": "1.5.0",
          "model_name": "HTMLModel",
          "state": {
            "_dom_classes": [],
            "_model_module": "@jupyter-widgets/controls",
            "_model_module_version": "1.5.0",
            "_model_name": "HTMLModel",
            "_view_count": null,
            "_view_module": "@jupyter-widgets/controls",
            "_view_module_version": "1.5.0",
            "_view_name": "HTMLView",
            "description": "",
            "description_tooltip": null,
            "layout": "IPY_MODEL_85f9422473354e5095590f569c6807f4",
            "placeholder": "​",
            "style": "IPY_MODEL_1e7f9f10b3fe45b4bfd8902583d73002",
            "value": " 28.0/28.0 [00:00&lt;00:00, 1.18kB/s]"
          }
        },
        "abaf2f53b5794fc18a90f9bccdbe1d89": {
          "model_module": "@jupyter-widgets/base",
          "model_module_version": "1.2.0",
          "model_name": "LayoutModel",
          "state": {
            "_model_module": "@jupyter-widgets/base",
            "_model_module_version": "1.2.0",
            "_model_name": "LayoutModel",
            "_view_count": null,
            "_view_module": "@jupyter-widgets/base",
            "_view_module_version": "1.2.0",
            "_view_name": "LayoutView",
            "align_content": null,
            "align_items": null,
            "align_self": null,
            "border": null,
            "bottom": null,
            "display": null,
            "flex": null,
            "flex_flow": null,
            "grid_area": null,
            "grid_auto_columns": null,
            "grid_auto_flow": null,
            "grid_auto_rows": null,
            "grid_column": null,
            "grid_gap": null,
            "grid_row": null,
            "grid_template_areas": null,
            "grid_template_columns": null,
            "grid_template_rows": null,
            "height": null,
            "justify_content": null,
            "justify_items": null,
            "left": null,
            "margin": null,
            "max_height": null,
            "max_width": null,
            "min_height": null,
            "min_width": null,
            "object_fit": null,
            "object_position": null,
            "order": null,
            "overflow": null,
            "overflow_x": null,
            "overflow_y": null,
            "padding": null,
            "right": null,
            "top": null,
            "visibility": null,
            "width": null
          }
        },
        "adfe36f7a3a14d35b5bf3d77398334a3": {
          "model_module": "@jupyter-widgets/controls",
          "model_module_version": "1.5.0",
          "model_name": "HBoxModel",
          "state": {
            "_dom_classes": [],
            "_model_module": "@jupyter-widgets/controls",
            "_model_module_version": "1.5.0",
            "_model_name": "HBoxModel",
            "_view_count": null,
            "_view_module": "@jupyter-widgets/controls",
            "_view_module_version": "1.5.0",
            "_view_name": "HBoxView",
            "box_style": "",
            "children": [
              "IPY_MODEL_4cc27fa1a8e74e4787dbb0377a583b65",
              "IPY_MODEL_cd3fdbaf323943b7bef3285cbf72a238",
              "IPY_MODEL_a3787f14996c418d949c238dba7d339f"
            ],
            "layout": "IPY_MODEL_6b1f43f88c7246a1842b87a3537f1a9f"
          }
        },
        "b0a1839bdecb41a48ea80d6de988459f": {
          "model_module": "@jupyter-widgets/controls",
          "model_module_version": "1.5.0",
          "model_name": "DescriptionStyleModel",
          "state": {
            "_model_module": "@jupyter-widgets/controls",
            "_model_module_version": "1.5.0",
            "_model_name": "DescriptionStyleModel",
            "_view_count": null,
            "_view_module": "@jupyter-widgets/base",
            "_view_module_version": "1.2.0",
            "_view_name": "StyleView",
            "description_width": ""
          }
        },
        "b272d749e73e4e63a8e0bafd769ec8d2": {
          "model_module": "@jupyter-widgets/base",
          "model_module_version": "1.2.0",
          "model_name": "LayoutModel",
          "state": {
            "_model_module": "@jupyter-widgets/base",
            "_model_module_version": "1.2.0",
            "_model_name": "LayoutModel",
            "_view_count": null,
            "_view_module": "@jupyter-widgets/base",
            "_view_module_version": "1.2.0",
            "_view_name": "LayoutView",
            "align_content": null,
            "align_items": null,
            "align_self": null,
            "border": null,
            "bottom": null,
            "display": null,
            "flex": null,
            "flex_flow": null,
            "grid_area": null,
            "grid_auto_columns": null,
            "grid_auto_flow": null,
            "grid_auto_rows": null,
            "grid_column": null,
            "grid_gap": null,
            "grid_row": null,
            "grid_template_areas": null,
            "grid_template_columns": null,
            "grid_template_rows": null,
            "height": null,
            "justify_content": null,
            "justify_items": null,
            "left": null,
            "margin": null,
            "max_height": null,
            "max_width": null,
            "min_height": null,
            "min_width": null,
            "object_fit": null,
            "object_position": null,
            "order": null,
            "overflow": null,
            "overflow_x": null,
            "overflow_y": null,
            "padding": null,
            "right": null,
            "top": null,
            "visibility": null,
            "width": null
          }
        },
        "b78c5e48533d403b8a968e70b2daa85d": {
          "model_module": "@jupyter-widgets/controls",
          "model_module_version": "1.5.0",
          "model_name": "ProgressStyleModel",
          "state": {
            "_model_module": "@jupyter-widgets/controls",
            "_model_module_version": "1.5.0",
            "_model_name": "ProgressStyleModel",
            "_view_count": null,
            "_view_module": "@jupyter-widgets/base",
            "_view_module_version": "1.2.0",
            "_view_name": "StyleView",
            "bar_color": null,
            "description_width": ""
          }
        },
        "b917c159455944a89e706cdf020d4e86": {
          "model_module": "@jupyter-widgets/controls",
          "model_module_version": "1.5.0",
          "model_name": "HTMLModel",
          "state": {
            "_dom_classes": [],
            "_model_module": "@jupyter-widgets/controls",
            "_model_module_version": "1.5.0",
            "_model_name": "HTMLModel",
            "_view_count": null,
            "_view_module": "@jupyter-widgets/controls",
            "_view_module_version": "1.5.0",
            "_view_name": "HTMLView",
            "description": "",
            "description_tooltip": null,
            "layout": "IPY_MODEL_2a295a2840604b54a2b5c7565ec78884",
            "placeholder": "​",
            "style": "IPY_MODEL_f5a28bced99d44f286ababdac5ff4481",
            "value": "Downloading (…)solve/main/vocab.txt: 100%"
          }
        },
        "b925759ead0a4cd8a905cb05fc77ed31": {
          "model_module": "@jupyter-widgets/base",
          "model_module_version": "1.2.0",
          "model_name": "LayoutModel",
          "state": {
            "_model_module": "@jupyter-widgets/base",
            "_model_module_version": "1.2.0",
            "_model_name": "LayoutModel",
            "_view_count": null,
            "_view_module": "@jupyter-widgets/base",
            "_view_module_version": "1.2.0",
            "_view_name": "LayoutView",
            "align_content": null,
            "align_items": null,
            "align_self": null,
            "border": null,
            "bottom": null,
            "display": null,
            "flex": null,
            "flex_flow": null,
            "grid_area": null,
            "grid_auto_columns": null,
            "grid_auto_flow": null,
            "grid_auto_rows": null,
            "grid_column": null,
            "grid_gap": null,
            "grid_row": null,
            "grid_template_areas": null,
            "grid_template_columns": null,
            "grid_template_rows": null,
            "height": null,
            "justify_content": null,
            "justify_items": null,
            "left": null,
            "margin": null,
            "max_height": null,
            "max_width": null,
            "min_height": null,
            "min_width": null,
            "object_fit": null,
            "object_position": null,
            "order": null,
            "overflow": null,
            "overflow_x": null,
            "overflow_y": null,
            "padding": null,
            "right": null,
            "top": null,
            "visibility": null,
            "width": null
          }
        },
        "b98577d8b9f54415b233621f0961c11c": {
          "model_module": "@jupyter-widgets/controls",
          "model_module_version": "1.5.0",
          "model_name": "HBoxModel",
          "state": {
            "_dom_classes": [],
            "_model_module": "@jupyter-widgets/controls",
            "_model_module_version": "1.5.0",
            "_model_name": "HBoxModel",
            "_view_count": null,
            "_view_module": "@jupyter-widgets/controls",
            "_view_module_version": "1.5.0",
            "_view_name": "HBoxView",
            "box_style": "",
            "children": [
              "IPY_MODEL_b917c159455944a89e706cdf020d4e86",
              "IPY_MODEL_0209a615aa894d379e761c42db3f4364",
              "IPY_MODEL_f2a7df841daf4ff6a14a093c6bf8a761"
            ],
            "layout": "IPY_MODEL_9e6683d66cb343b4a7938ecf6e586a27"
          }
        },
        "bb5ee39175144d4ca48eb2a942aabc35": {
          "model_module": "@jupyter-widgets/base",
          "model_module_version": "1.2.0",
          "model_name": "LayoutModel",
          "state": {
            "_model_module": "@jupyter-widgets/base",
            "_model_module_version": "1.2.0",
            "_model_name": "LayoutModel",
            "_view_count": null,
            "_view_module": "@jupyter-widgets/base",
            "_view_module_version": "1.2.0",
            "_view_name": "LayoutView",
            "align_content": null,
            "align_items": null,
            "align_self": null,
            "border": null,
            "bottom": null,
            "display": null,
            "flex": null,
            "flex_flow": null,
            "grid_area": null,
            "grid_auto_columns": null,
            "grid_auto_flow": null,
            "grid_auto_rows": null,
            "grid_column": null,
            "grid_gap": null,
            "grid_row": null,
            "grid_template_areas": null,
            "grid_template_columns": null,
            "grid_template_rows": null,
            "height": null,
            "justify_content": null,
            "justify_items": null,
            "left": null,
            "margin": null,
            "max_height": null,
            "max_width": null,
            "min_height": null,
            "min_width": null,
            "object_fit": null,
            "object_position": null,
            "order": null,
            "overflow": null,
            "overflow_x": null,
            "overflow_y": null,
            "padding": null,
            "right": null,
            "top": null,
            "visibility": null,
            "width": null
          }
        },
        "bf4c9b7fe7ec4b42ba174f7eb358f32b": {
          "model_module": "@jupyter-widgets/controls",
          "model_module_version": "1.5.0",
          "model_name": "ProgressStyleModel",
          "state": {
            "_model_module": "@jupyter-widgets/controls",
            "_model_module_version": "1.5.0",
            "_model_name": "ProgressStyleModel",
            "_view_count": null,
            "_view_module": "@jupyter-widgets/base",
            "_view_module_version": "1.2.0",
            "_view_name": "StyleView",
            "bar_color": null,
            "description_width": ""
          }
        },
        "cd3fdbaf323943b7bef3285cbf72a238": {
          "model_module": "@jupyter-widgets/controls",
          "model_module_version": "1.5.0",
          "model_name": "FloatProgressModel",
          "state": {
            "_dom_classes": [],
            "_model_module": "@jupyter-widgets/controls",
            "_model_module_version": "1.5.0",
            "_model_name": "FloatProgressModel",
            "_view_count": null,
            "_view_module": "@jupyter-widgets/controls",
            "_view_module_version": "1.5.0",
            "_view_name": "ProgressView",
            "bar_style": "success",
            "description": "",
            "description_tooltip": null,
            "layout": "IPY_MODEL_326bebe5ebbe4aac9412ac9cc11b8b6b",
            "max": 28,
            "min": 0,
            "orientation": "horizontal",
            "style": "IPY_MODEL_bf4c9b7fe7ec4b42ba174f7eb358f32b",
            "value": 28
          }
        },
        "d2019ded415e4e7a9a8024f14157bd93": {
          "model_module": "@jupyter-widgets/base",
          "model_module_version": "1.2.0",
          "model_name": "LayoutModel",
          "state": {
            "_model_module": "@jupyter-widgets/base",
            "_model_module_version": "1.2.0",
            "_model_name": "LayoutModel",
            "_view_count": null,
            "_view_module": "@jupyter-widgets/base",
            "_view_module_version": "1.2.0",
            "_view_name": "LayoutView",
            "align_content": null,
            "align_items": null,
            "align_self": null,
            "border": null,
            "bottom": null,
            "display": null,
            "flex": null,
            "flex_flow": null,
            "grid_area": null,
            "grid_auto_columns": null,
            "grid_auto_flow": null,
            "grid_auto_rows": null,
            "grid_column": null,
            "grid_gap": null,
            "grid_row": null,
            "grid_template_areas": null,
            "grid_template_columns": null,
            "grid_template_rows": null,
            "height": null,
            "justify_content": null,
            "justify_items": null,
            "left": null,
            "margin": null,
            "max_height": null,
            "max_width": null,
            "min_height": null,
            "min_width": null,
            "object_fit": null,
            "object_position": null,
            "order": null,
            "overflow": null,
            "overflow_x": null,
            "overflow_y": null,
            "padding": null,
            "right": null,
            "top": null,
            "visibility": null,
            "width": null
          }
        },
        "e2f9ec65456c44d582dd6b6a33559663": {
          "model_module": "@jupyter-widgets/controls",
          "model_module_version": "1.5.0",
          "model_name": "HTMLModel",
          "state": {
            "_dom_classes": [],
            "_model_module": "@jupyter-widgets/controls",
            "_model_module_version": "1.5.0",
            "_model_name": "HTMLModel",
            "_view_count": null,
            "_view_module": "@jupyter-widgets/controls",
            "_view_module_version": "1.5.0",
            "_view_name": "HTMLView",
            "description": "",
            "description_tooltip": null,
            "layout": "IPY_MODEL_5e0bb7c346da4a0eb9d9a7c8b0ce9486",
            "placeholder": "​",
            "style": "IPY_MODEL_9e9abdae3b79454ead6d4c87d0602ae1",
            "value": "Downloading (…)/main/tokenizer.json: 100%"
          }
        },
        "e49c6aef654b42e69bc3c23ac439556c": {
          "model_module": "@jupyter-widgets/base",
          "model_module_version": "1.2.0",
          "model_name": "LayoutModel",
          "state": {
            "_model_module": "@jupyter-widgets/base",
            "_model_module_version": "1.2.0",
            "_model_name": "LayoutModel",
            "_view_count": null,
            "_view_module": "@jupyter-widgets/base",
            "_view_module_version": "1.2.0",
            "_view_name": "LayoutView",
            "align_content": null,
            "align_items": null,
            "align_self": null,
            "border": null,
            "bottom": null,
            "display": null,
            "flex": null,
            "flex_flow": null,
            "grid_area": null,
            "grid_auto_columns": null,
            "grid_auto_flow": null,
            "grid_auto_rows": null,
            "grid_column": null,
            "grid_gap": null,
            "grid_row": null,
            "grid_template_areas": null,
            "grid_template_columns": null,
            "grid_template_rows": null,
            "height": null,
            "justify_content": null,
            "justify_items": null,
            "left": null,
            "margin": null,
            "max_height": null,
            "max_width": null,
            "min_height": null,
            "min_width": null,
            "object_fit": null,
            "object_position": null,
            "order": null,
            "overflow": null,
            "overflow_x": null,
            "overflow_y": null,
            "padding": null,
            "right": null,
            "top": null,
            "visibility": null,
            "width": null
          }
        },
        "ecebfcd64c6e47c19e250268b9ce3d6e": {
          "model_module": "@jupyter-widgets/controls",
          "model_module_version": "1.5.0",
          "model_name": "HTMLModel",
          "state": {
            "_dom_classes": [],
            "_model_module": "@jupyter-widgets/controls",
            "_model_module_version": "1.5.0",
            "_model_name": "HTMLModel",
            "_view_count": null,
            "_view_module": "@jupyter-widgets/controls",
            "_view_module_version": "1.5.0",
            "_view_name": "HTMLView",
            "description": "",
            "description_tooltip": null,
            "layout": "IPY_MODEL_b925759ead0a4cd8a905cb05fc77ed31",
            "placeholder": "​",
            "style": "IPY_MODEL_fdbd5e6eac56436fa807aa24455022b5",
            "value": " 268M/268M [00:00&lt;00:00, 340MB/s]"
          }
        },
        "ee268b53c2be41329ca8aa14dbb46a4f": {
          "model_module": "@jupyter-widgets/base",
          "model_module_version": "1.2.0",
          "model_name": "LayoutModel",
          "state": {
            "_model_module": "@jupyter-widgets/base",
            "_model_module_version": "1.2.0",
            "_model_name": "LayoutModel",
            "_view_count": null,
            "_view_module": "@jupyter-widgets/base",
            "_view_module_version": "1.2.0",
            "_view_name": "LayoutView",
            "align_content": null,
            "align_items": null,
            "align_self": null,
            "border": null,
            "bottom": null,
            "display": null,
            "flex": null,
            "flex_flow": null,
            "grid_area": null,
            "grid_auto_columns": null,
            "grid_auto_flow": null,
            "grid_auto_rows": null,
            "grid_column": null,
            "grid_gap": null,
            "grid_row": null,
            "grid_template_areas": null,
            "grid_template_columns": null,
            "grid_template_rows": null,
            "height": null,
            "justify_content": null,
            "justify_items": null,
            "left": null,
            "margin": null,
            "max_height": null,
            "max_width": null,
            "min_height": null,
            "min_width": null,
            "object_fit": null,
            "object_position": null,
            "order": null,
            "overflow": null,
            "overflow_x": null,
            "overflow_y": null,
            "padding": null,
            "right": null,
            "top": null,
            "visibility": null,
            "width": null
          }
        },
        "f02871a289784afbbc4a422010b9581f": {
          "model_module": "@jupyter-widgets/base",
          "model_module_version": "1.2.0",
          "model_name": "LayoutModel",
          "state": {
            "_model_module": "@jupyter-widgets/base",
            "_model_module_version": "1.2.0",
            "_model_name": "LayoutModel",
            "_view_count": null,
            "_view_module": "@jupyter-widgets/base",
            "_view_module_version": "1.2.0",
            "_view_name": "LayoutView",
            "align_content": null,
            "align_items": null,
            "align_self": null,
            "border": null,
            "bottom": null,
            "display": null,
            "flex": null,
            "flex_flow": null,
            "grid_area": null,
            "grid_auto_columns": null,
            "grid_auto_flow": null,
            "grid_auto_rows": null,
            "grid_column": null,
            "grid_gap": null,
            "grid_row": null,
            "grid_template_areas": null,
            "grid_template_columns": null,
            "grid_template_rows": null,
            "height": null,
            "justify_content": null,
            "justify_items": null,
            "left": null,
            "margin": null,
            "max_height": null,
            "max_width": null,
            "min_height": null,
            "min_width": null,
            "object_fit": null,
            "object_position": null,
            "order": null,
            "overflow": null,
            "overflow_x": null,
            "overflow_y": null,
            "padding": null,
            "right": null,
            "top": null,
            "visibility": null,
            "width": null
          }
        },
        "f2a7df841daf4ff6a14a093c6bf8a761": {
          "model_module": "@jupyter-widgets/controls",
          "model_module_version": "1.5.0",
          "model_name": "HTMLModel",
          "state": {
            "_dom_classes": [],
            "_model_module": "@jupyter-widgets/controls",
            "_model_module_version": "1.5.0",
            "_model_name": "HTMLModel",
            "_view_count": null,
            "_view_module": "@jupyter-widgets/controls",
            "_view_module_version": "1.5.0",
            "_view_name": "HTMLView",
            "description": "",
            "description_tooltip": null,
            "layout": "IPY_MODEL_ee268b53c2be41329ca8aa14dbb46a4f",
            "placeholder": "​",
            "style": "IPY_MODEL_7f0eb4c99fd64588be4c310477bb8c10",
            "value": " 232k/232k [00:00&lt;00:00, 537kB/s]"
          }
        },
        "f5a28bced99d44f286ababdac5ff4481": {
          "model_module": "@jupyter-widgets/controls",
          "model_module_version": "1.5.0",
          "model_name": "DescriptionStyleModel",
          "state": {
            "_model_module": "@jupyter-widgets/controls",
            "_model_module_version": "1.5.0",
            "_model_name": "DescriptionStyleModel",
            "_view_count": null,
            "_view_module": "@jupyter-widgets/base",
            "_view_module_version": "1.2.0",
            "_view_name": "StyleView",
            "description_width": ""
          }
        },
        "fdbd5e6eac56436fa807aa24455022b5": {
          "model_module": "@jupyter-widgets/controls",
          "model_module_version": "1.5.0",
          "model_name": "DescriptionStyleModel",
          "state": {
            "_model_module": "@jupyter-widgets/controls",
            "_model_module_version": "1.5.0",
            "_model_name": "DescriptionStyleModel",
            "_view_count": null,
            "_view_module": "@jupyter-widgets/base",
            "_view_module_version": "1.2.0",
            "_view_name": "StyleView",
            "description_width": ""
          }
        }
      }
    }
  },
  "nbformat": 4,
  "nbformat_minor": 0
}
